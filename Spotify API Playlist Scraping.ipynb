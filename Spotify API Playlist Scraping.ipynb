{
 "cells": [
  {
   "cell_type": "code",
   "execution_count": 1,
   "id": "bc94a22e",
   "metadata": {},
   "outputs": [],
   "source": [
    "import spotipy\n",
    "from spotipy.oauth2 import SpotifyClientCredentials"
   ]
  },
  {
   "cell_type": "code",
   "execution_count": 2,
   "id": "531c7cdd",
   "metadata": {},
   "outputs": [],
   "source": [
    "import pandas as pd"
   ]
  },
  {
   "cell_type": "code",
   "execution_count": 3,
   "id": "d1b9e5b5",
   "metadata": {},
   "outputs": [],
   "source": [
    "secrets_file = open(\"/Users/NicolasVollmerMac/Documents/Ironhack-Lessons/6.5 API wrappers, Spotipy/secrets.txt\", \"r\")"
   ]
  },
  {
   "cell_type": "code",
   "execution_count": 4,
   "id": "59b83cfd",
   "metadata": {},
   "outputs": [],
   "source": [
    "string = secrets_file.read()"
   ]
  },
  {
   "cell_type": "code",
   "execution_count": 5,
   "id": "f0d241d5",
   "metadata": {},
   "outputs": [],
   "source": [
    "secrets_dict={}\n",
    "for line in string.split('\\n'):\n",
    "    if len(line) > 0:\n",
    "        secrets_dict[line.split(':')[0]]=line.split(':')[1].strip()"
   ]
  },
  {
   "cell_type": "code",
   "execution_count": 6,
   "id": "4d75a996",
   "metadata": {},
   "outputs": [],
   "source": [
    "import spotipy\n",
    "from spotipy.oauth2 import SpotifyClientCredentials\n",
    "\n",
    "#Initialize SpotiPy with user credentials\n",
    "sp = spotipy.Spotify(auth_manager=SpotifyClientCredentials(client_id=secrets_dict['cid'],\n",
    "                                                           client_secret=secrets_dict['csecret']))"
   ]
  },
  {
   "cell_type": "markdown",
   "id": "abca998e",
   "metadata": {},
   "source": [
    "**Lazily using Jan's function and playlist of today's lesson to start**"
   ]
  },
  {
   "cell_type": "code",
   "execution_count": 7,
   "id": "d819e331",
   "metadata": {},
   "outputs": [],
   "source": [
    "from random import randint\n",
    "from time import sleep\n",
    "\n",
    "def get_playlist_tracks(playlist_id):\n",
    "    results = sp.user_playlist_tracks(\"spotify\",playlist_id)\n",
    "    tracks = results['items']\n",
    "    while results['next']!=None:\n",
    "        results = sp.next(results)\n",
    "        tracks = tracks + results['items']\n",
    "        sleep(randint(1,3000)/1000)\n",
    "    return tracks"
   ]
  },
  {
   "cell_type": "code",
   "execution_count": 8,
   "id": "aaa8bf7e",
   "metadata": {
    "scrolled": true
   },
   "outputs": [
    {
     "data": {
      "text/plain": [
       "5295"
      ]
     },
     "execution_count": 8,
     "metadata": {},
     "output_type": "execute_result"
    }
   ],
   "source": [
    "biggest_playlist = get_playlist_tracks(\"4rnleEAOdmFAbRcNCgZMpY\")\n",
    "len(biggest_playlist)"
   ]
  },
  {
   "cell_type": "markdown",
   "id": "a0e86b37",
   "metadata": {},
   "source": [
    "**Importing another and add them to test if that works**"
   ]
  },
  {
   "cell_type": "code",
   "execution_count": 9,
   "id": "c500d052",
   "metadata": {},
   "outputs": [
    {
     "data": {
      "text/plain": [
       "624"
      ]
     },
     "execution_count": 9,
     "metadata": {},
     "output_type": "execute_result"
    }
   ],
   "source": [
    "REM_complete = get_playlist_tracks(\"0iLHo8Q1rXyVxoPjx5DzPN\")\n",
    "len(REM_complete)"
   ]
  },
  {
   "cell_type": "code",
   "execution_count": 11,
   "id": "19469a78",
   "metadata": {
    "scrolled": true
   },
   "outputs": [
    {
     "data": {
      "text/plain": [
       "5919"
      ]
     },
     "execution_count": 11,
     "metadata": {},
     "output_type": "execute_result"
    }
   ],
   "source": [
    "all_tracks = biggest_playlist + REM_complete\n",
    "len(all_tracks)"
   ]
  },
  {
   "cell_type": "markdown",
   "id": "ab021b7b",
   "metadata": {},
   "source": [
    "**Just adding playlist imports together works! Found my modus operandi**"
   ]
  },
  {
   "cell_type": "code",
   "execution_count": 12,
   "id": "e26347e7",
   "metadata": {},
   "outputs": [],
   "source": [
    "# credit to Gaurav for finding a large 10k title playlist with greatest songs of all time\n",
    "\n",
    "top10k = get_playlist_tracks(\"1G8IpkZKobrIlXcVPoSIuf\")"
   ]
  },
  {
   "cell_type": "code",
   "execution_count": 13,
   "id": "786406c7",
   "metadata": {},
   "outputs": [
    {
     "data": {
      "text/plain": [
       "10000"
      ]
     },
     "execution_count": 13,
     "metadata": {},
     "output_type": "execute_result"
    }
   ],
   "source": [
    "len(top10k)"
   ]
  },
  {
   "cell_type": "code",
   "execution_count": 14,
   "id": "937a89dd",
   "metadata": {},
   "outputs": [
    {
     "data": {
      "text/plain": [
       "15919"
      ]
     },
     "execution_count": 14,
     "metadata": {},
     "output_type": "execute_result"
    }
   ],
   "source": [
    "all_tracks = all_tracks + top10k\n",
    "len(all_tracks)"
   ]
  },
  {
   "cell_type": "markdown",
   "id": "43710e5c",
   "metadata": {},
   "source": [
    "**checking for artist, title, and uri**"
   ]
  },
  {
   "cell_type": "code",
   "execution_count": 15,
   "id": "5c4f07b0",
   "metadata": {
    "scrolled": true
   },
   "outputs": [],
   "source": [
    "# checking contents \n",
    "\n",
    "# all_tracks"
   ]
  },
  {
   "cell_type": "code",
   "execution_count": 16,
   "id": "36b44a2c",
   "metadata": {},
   "outputs": [
    {
     "data": {
      "text/plain": [
       "'Take Me To Church'"
      ]
     },
     "execution_count": 16,
     "metadata": {},
     "output_type": "execute_result"
    }
   ],
   "source": [
    "all_tracks[0]['track']['name']"
   ]
  },
  {
   "cell_type": "code",
   "execution_count": 17,
   "id": "948ea77c",
   "metadata": {},
   "outputs": [
    {
     "data": {
      "text/plain": [
       "'Hozier'"
      ]
     },
     "execution_count": 17,
     "metadata": {},
     "output_type": "execute_result"
    }
   ],
   "source": [
    "all_tracks[0][\"track\"][\"album\"]['artists'][0]['name']"
   ]
  },
  {
   "cell_type": "code",
   "execution_count": 18,
   "id": "1e3a4283",
   "metadata": {},
   "outputs": [
    {
     "data": {
      "text/plain": [
       "'spotify:track:7dS5EaCoMnN7DzlpT6aRn2'"
      ]
     },
     "execution_count": 18,
     "metadata": {},
     "output_type": "execute_result"
    }
   ],
   "source": [
    "all_tracks[0]['track']['uri']"
   ]
  },
  {
   "cell_type": "markdown",
   "id": "713e37d7",
   "metadata": {},
   "source": [
    "**loop for extracting the necessary contents - huge credit to Gaurav**"
   ]
  },
  {
   "cell_type": "code",
   "execution_count": 19,
   "id": "4b9d3357",
   "metadata": {},
   "outputs": [],
   "source": [
    "#creating lists to hold song, artist, title uri\n",
    "title_name = []\n",
    "artist_name = []\n",
    "track_uri = []\n",
    "for i in range(len(all_tracks)):\n",
    "    try:\n",
    "        title = all_tracks[i]['track']['name']\n",
    "        artist = all_tracks[i][\"track\"][\"album\"]['artists'][0]['name']\n",
    "        uri = all_tracks[i]['track']['uri']\n",
    "        artist_name.append(artist)\n",
    "        title_name.append(title)\n",
    "        track_uri.append(uri)\n",
    "    except:\n",
    "        artist_name.append('none')\n",
    "        title_name.append('none')\n",
    "        track_uri.append('none')"
   ]
  },
  {
   "cell_type": "code",
   "execution_count": 20,
   "id": "a35979f0",
   "metadata": {
    "scrolled": true
   },
   "outputs": [
    {
     "data": {
      "text/html": [
       "<div>\n",
       "<style scoped>\n",
       "    .dataframe tbody tr th:only-of-type {\n",
       "        vertical-align: middle;\n",
       "    }\n",
       "\n",
       "    .dataframe tbody tr th {\n",
       "        vertical-align: top;\n",
       "    }\n",
       "\n",
       "    .dataframe thead th {\n",
       "        text-align: right;\n",
       "    }\n",
       "</style>\n",
       "<table border=\"1\" class=\"dataframe\">\n",
       "  <thead>\n",
       "    <tr style=\"text-align: right;\">\n",
       "      <th></th>\n",
       "      <th>title</th>\n",
       "      <th>artist</th>\n",
       "      <th>uri</th>\n",
       "    </tr>\n",
       "  </thead>\n",
       "  <tbody>\n",
       "    <tr>\n",
       "      <th>0</th>\n",
       "      <td>Take Me To Church</td>\n",
       "      <td>Hozier</td>\n",
       "      <td>spotify:track:7dS5EaCoMnN7DzlpT6aRn2</td>\n",
       "    </tr>\n",
       "    <tr>\n",
       "      <th>1</th>\n",
       "      <td>Cooler Than Me - Single Mix</td>\n",
       "      <td>Mike Posner</td>\n",
       "      <td>spotify:track:2V4bv1fNWfTcyRJKmej6Sj</td>\n",
       "    </tr>\n",
       "    <tr>\n",
       "      <th>2</th>\n",
       "      <td>See You Again (feat. Kali Uchis)</td>\n",
       "      <td>Tyler, The Creator</td>\n",
       "      <td>spotify:track:7KA4W4McWYRpgf0fWsJZWB</td>\n",
       "    </tr>\n",
       "    <tr>\n",
       "      <th>3</th>\n",
       "      <td>Pompeii</td>\n",
       "      <td>Bastille</td>\n",
       "      <td>spotify:track:3gbBpTdY8lnQwqxNCcf795</td>\n",
       "    </tr>\n",
       "    <tr>\n",
       "      <th>4</th>\n",
       "      <td>Hips Don't Lie (feat. Wyclef Jean)</td>\n",
       "      <td>Shakira</td>\n",
       "      <td>spotify:track:3ZFTkvIE7kyPt6Nu3PEa7V</td>\n",
       "    </tr>\n",
       "    <tr>\n",
       "      <th>...</th>\n",
       "      <td>...</td>\n",
       "      <td>...</td>\n",
       "      <td>...</td>\n",
       "    </tr>\n",
       "    <tr>\n",
       "      <th>15914</th>\n",
       "      <td>Into The Valley</td>\n",
       "      <td>Skids</td>\n",
       "      <td>spotify:track:2QSD3K3b3BJ8DPhGhQfDPW</td>\n",
       "    </tr>\n",
       "    <tr>\n",
       "      <th>15915</th>\n",
       "      <td>Tonight's Da Night</td>\n",
       "      <td>Redman</td>\n",
       "      <td>spotify:track:49XnDVsYOHgV4gFZeCojKj</td>\n",
       "    </tr>\n",
       "    <tr>\n",
       "      <th>15916</th>\n",
       "      <td>Figure 8</td>\n",
       "      <td>FKA twigs</td>\n",
       "      <td>spotify:track:5Y9IIH8Xmo1nuk0gfFjc4Q</td>\n",
       "    </tr>\n",
       "    <tr>\n",
       "      <th>15917</th>\n",
       "      <td>Like An Angel</td>\n",
       "      <td>The Mighty Lemon Drops</td>\n",
       "      <td>spotify:track:0ya0JYEFoXNviB8RMeHDtW</td>\n",
       "    </tr>\n",
       "    <tr>\n",
       "      <th>15918</th>\n",
       "      <td>Come Dancing</td>\n",
       "      <td>The Kinks</td>\n",
       "      <td>spotify:track:32y1kRg6IF3f6jpkHxzFoK</td>\n",
       "    </tr>\n",
       "  </tbody>\n",
       "</table>\n",
       "<p>15919 rows × 3 columns</p>\n",
       "</div>"
      ],
      "text/plain": [
       "                                    title                  artist  \\\n",
       "0                       Take Me To Church                  Hozier   \n",
       "1             Cooler Than Me - Single Mix             Mike Posner   \n",
       "2        See You Again (feat. Kali Uchis)      Tyler, The Creator   \n",
       "3                                 Pompeii                Bastille   \n",
       "4      Hips Don't Lie (feat. Wyclef Jean)                 Shakira   \n",
       "...                                   ...                     ...   \n",
       "15914                     Into The Valley                   Skids   \n",
       "15915                  Tonight's Da Night                  Redman   \n",
       "15916                            Figure 8               FKA twigs   \n",
       "15917                       Like An Angel  The Mighty Lemon Drops   \n",
       "15918                        Come Dancing               The Kinks   \n",
       "\n",
       "                                        uri  \n",
       "0      spotify:track:7dS5EaCoMnN7DzlpT6aRn2  \n",
       "1      spotify:track:2V4bv1fNWfTcyRJKmej6Sj  \n",
       "2      spotify:track:7KA4W4McWYRpgf0fWsJZWB  \n",
       "3      spotify:track:3gbBpTdY8lnQwqxNCcf795  \n",
       "4      spotify:track:3ZFTkvIE7kyPt6Nu3PEa7V  \n",
       "...                                     ...  \n",
       "15914  spotify:track:2QSD3K3b3BJ8DPhGhQfDPW  \n",
       "15915  spotify:track:49XnDVsYOHgV4gFZeCojKj  \n",
       "15916  spotify:track:5Y9IIH8Xmo1nuk0gfFjc4Q  \n",
       "15917  spotify:track:0ya0JYEFoXNviB8RMeHDtW  \n",
       "15918  spotify:track:32y1kRg6IF3f6jpkHxzFoK  \n",
       "\n",
       "[15919 rows x 3 columns]"
      ]
     },
     "execution_count": 20,
     "metadata": {},
     "output_type": "execute_result"
    }
   ],
   "source": [
    "spotify_df=pd.DataFrame({'title': title_name,'artist': artist_name,'uri': track_uri})\n",
    "spotify_df"
   ]
  },
  {
   "cell_type": "code",
   "execution_count": 21,
   "id": "6c08a9af",
   "metadata": {
    "scrolled": false
   },
   "outputs": [
    {
     "name": "stdout",
     "output_type": "stream",
     "text": [
      "<class 'pandas.core.frame.DataFrame'>\n",
      "RangeIndex: 15919 entries, 0 to 15918\n",
      "Data columns (total 3 columns):\n",
      " #   Column  Non-Null Count  Dtype \n",
      "---  ------  --------------  ----- \n",
      " 0   title   15919 non-null  object\n",
      " 1   artist  15919 non-null  object\n",
      " 2   uri     15919 non-null  object\n",
      "dtypes: object(3)\n",
      "memory usage: 373.2+ KB\n"
     ]
    }
   ],
   "source": [
    "spotify_df.info()"
   ]
  },
  {
   "cell_type": "code",
   "execution_count": 22,
   "id": "0ed11cfa",
   "metadata": {},
   "outputs": [],
   "source": [
    "# tried to turn the above to a callable function, but it somehow fails\n",
    "\n",
    "def extraction(playlist):\n",
    "    #creating lists to hold song, artist, title uri\n",
    "    title_name = []\n",
    "    artist_name = []\n",
    "    track_uri = []\n",
    "    for i in range(len(playlist)):\n",
    "        try:\n",
    "            title = playlist[i]['track']['name']\n",
    "            artist = playlist[i][\"track\"][\"album\"]['artists'][0]['name']\n",
    "            uri = playlist[i]['track']['uri']\n",
    "            artist_name.append(artist)\n",
    "            title_name.append(title)\n",
    "            track_uri.append(uri)\n",
    "        except:\n",
    "            artist_name.append('none')\n",
    "            title_name.append('none')\n",
    "            track_uri.append('none')"
   ]
  },
  {
   "cell_type": "code",
   "execution_count": 23,
   "id": "5ab2ce9d",
   "metadata": {},
   "outputs": [],
   "source": [
    "df1 = extraction(all_tracks)"
   ]
  },
  {
   "cell_type": "code",
   "execution_count": 24,
   "id": "d64c9e74",
   "metadata": {},
   "outputs": [],
   "source": [
    "df1"
   ]
  },
  {
   "cell_type": "markdown",
   "id": "4edf0564",
   "metadata": {},
   "source": [
    "**running some more imports to see how far I can get**"
   ]
  },
  {
   "cell_type": "code",
   "execution_count": 25,
   "id": "681109c7",
   "metadata": {},
   "outputs": [
    {
     "data": {
      "text/plain": [
       "60"
      ]
     },
     "execution_count": 25,
     "metadata": {},
     "output_type": "execute_result"
    }
   ],
   "source": [
    "sade_complete = get_playlist_tracks(\"1mmR8n53e0j23dqilZPgku\")\n",
    "len(sade_complete)"
   ]
  },
  {
   "cell_type": "code",
   "execution_count": 26,
   "id": "c1030308",
   "metadata": {},
   "outputs": [
    {
     "data": {
      "text/plain": [
       "325"
      ]
     },
     "execution_count": 26,
     "metadata": {},
     "output_type": "execute_result"
    }
   ],
   "source": [
    "seal_complete = get_playlist_tracks(\"4DWpMtkfffLABc1ZcPs1TY\")\n",
    "len(seal_complete)"
   ]
  },
  {
   "cell_type": "code",
   "execution_count": 27,
   "id": "915b1044",
   "metadata": {},
   "outputs": [
    {
     "data": {
      "text/plain": [
       "388"
      ]
     },
     "execution_count": 27,
     "metadata": {},
     "output_type": "execute_result"
    }
   ],
   "source": [
    "u2_complete = get_playlist_tracks(\"4rULc5Ai65ce5FPSuFRiqc\")\n",
    "len(u2_complete)"
   ]
  },
  {
   "cell_type": "code",
   "execution_count": 28,
   "id": "47495fda",
   "metadata": {},
   "outputs": [
    {
     "data": {
      "text/plain": [
       "90"
      ]
     },
     "execution_count": 28,
     "metadata": {},
     "output_type": "execute_result"
    }
   ],
   "source": [
    "zucchero_best = get_playlist_tracks(\"13VTdjnf78wfeYZnxxzzRm\")\n",
    "len(zucchero_best)"
   ]
  },
  {
   "cell_type": "code",
   "execution_count": 29,
   "id": "a9cba74e",
   "metadata": {},
   "outputs": [
    {
     "data": {
      "text/plain": [
       "216"
      ]
     },
     "execution_count": 29,
     "metadata": {},
     "output_type": "execute_result"
    }
   ],
   "source": [
    "marvin_gaye_complete = get_playlist_tracks(\"57zcQo009RMbVUMWc85ndg\")\n",
    "len(marvin_gaye_complete)"
   ]
  },
  {
   "cell_type": "code",
   "execution_count": 30,
   "id": "0f9694a7",
   "metadata": {},
   "outputs": [
    {
     "data": {
      "text/plain": [
       "60"
      ]
     },
     "execution_count": 30,
     "metadata": {},
     "output_type": "execute_result"
    }
   ],
   "source": [
    "RnB_classics = get_playlist_tracks(\"2JOz4BjV3SqcsdzTdrqCXt\")\n",
    "len(RnB_classics)"
   ]
  },
  {
   "cell_type": "code",
   "execution_count": 31,
   "id": "5ef1629b",
   "metadata": {},
   "outputs": [
    {
     "data": {
      "text/plain": [
       "991"
      ]
     },
     "execution_count": 31,
     "metadata": {},
     "output_type": "execute_result"
    }
   ],
   "source": [
    "lofi = get_playlist_tracks(\"37i9dQZF1DWWQRwui0ExPn\")\n",
    "len(lofi)"
   ]
  },
  {
   "cell_type": "code",
   "execution_count": 32,
   "id": "d33ca2fa",
   "metadata": {},
   "outputs": [
    {
     "data": {
      "text/plain": [
       "200"
      ]
     },
     "execution_count": 32,
     "metadata": {},
     "output_type": "execute_result"
    }
   ],
   "source": [
    "jazz_classics = get_playlist_tracks(\"37i9dQZF1DXbITWG1ZJKYt\")\n",
    "len(jazz_classics)"
   ]
  },
  {
   "cell_type": "code",
   "execution_count": 33,
   "id": "e7cd67c2",
   "metadata": {},
   "outputs": [
    {
     "data": {
      "text/plain": [
       "118"
      ]
     },
     "execution_count": 33,
     "metadata": {},
     "output_type": "execute_result"
    }
   ],
   "source": [
    "massive_attack_complete = get_playlist_tracks(\"5NFphS2mREHkh98NmXcex0\")\n",
    "len(massive_attack_complete)"
   ]
  },
  {
   "cell_type": "code",
   "execution_count": 34,
   "id": "2e511e40",
   "metadata": {},
   "outputs": [
    {
     "data": {
      "text/plain": [
       "124"
      ]
     },
     "execution_count": 34,
     "metadata": {},
     "output_type": "execute_result"
    }
   ],
   "source": [
    "radiohead = get_playlist_tracks(\"3wYodHapj4Hmx9UtVroYok\")\n",
    "len(radiohead)"
   ]
  },
  {
   "cell_type": "code",
   "execution_count": 35,
   "id": "0efae592",
   "metadata": {},
   "outputs": [
    {
     "data": {
      "text/plain": [
       "149"
      ]
     },
     "execution_count": 35,
     "metadata": {},
     "output_type": "execute_result"
    }
   ],
   "source": [
    "simplyred = get_playlist_tracks(\"1GWYMvtGQmpuBA3Thlpa9k\")\n",
    "len(simplyred)"
   ]
  },
  {
   "cell_type": "code",
   "execution_count": 36,
   "id": "6cc74b01",
   "metadata": {},
   "outputs": [
    {
     "data": {
      "text/plain": [
       "150"
      ]
     },
     "execution_count": 36,
     "metadata": {},
     "output_type": "execute_result"
    }
   ],
   "source": [
    "party2010 = get_playlist_tracks(\"37i9dQZF1DWWylYLMvjuRG\")\n",
    "len(party2010)"
   ]
  },
  {
   "cell_type": "code",
   "execution_count": 37,
   "id": "cab35ef0",
   "metadata": {},
   "outputs": [
    {
     "data": {
      "text/plain": [
       "1266"
      ]
     },
     "execution_count": 37,
     "metadata": {},
     "output_type": "execute_result"
    }
   ],
   "source": [
    "Rock_HallOfFame = get_playlist_tracks(\"0s0wXzNsYka1kWHfJP79ps\")\n",
    "len(Rock_HallOfFame)"
   ]
  },
  {
   "cell_type": "code",
   "execution_count": 38,
   "id": "6d5317d0",
   "metadata": {},
   "outputs": [
    {
     "data": {
      "text/plain": [
       "200"
      ]
     },
     "execution_count": 38,
     "metadata": {},
     "output_type": "execute_result"
    }
   ],
   "source": [
    "rock_classics = get_playlist_tracks(\"37i9dQZF1DWXRqgorJj26U\")\n",
    "len(rock_classics)"
   ]
  },
  {
   "cell_type": "code",
   "execution_count": 39,
   "id": "e16f956f",
   "metadata": {},
   "outputs": [
    {
     "data": {
      "text/plain": [
       "200"
      ]
     },
     "execution_count": 39,
     "metadata": {},
     "output_type": "execute_result"
    }
   ],
   "source": [
    "daftpunk = get_playlist_tracks(\"0aYeMGWBJIlSyWjG8dty65\")\n",
    "len(rock_classics)"
   ]
  },
  {
   "cell_type": "markdown",
   "id": "be41d7d2",
   "metadata": {},
   "source": [
    "**now to add them together**"
   ]
  },
  {
   "cell_type": "code",
   "execution_count": 40,
   "id": "08f769f7",
   "metadata": {},
   "outputs": [
    {
     "data": {
      "text/plain": [
       "20322"
      ]
     },
     "execution_count": 40,
     "metadata": {},
     "output_type": "execute_result"
    }
   ],
   "source": [
    "ultimate = all_tracks + rock_classics + Rock_HallOfFame + sade_complete + zucchero_best + seal_complete + u2_complete + marvin_gaye_complete + RnB_classics + lofi + party2010 + simplyred + radiohead + massive_attack_complete + daftpunk + jazz_classics\n",
    "len(ultimate)"
   ]
  },
  {
   "cell_type": "code",
   "execution_count": 41,
   "id": "0ee80e30",
   "metadata": {},
   "outputs": [],
   "source": [
    "#creating lists to hold song, artist, title uri\n",
    "title_name = []\n",
    "artist_name = []\n",
    "track_uri = []\n",
    "for i in range(len(ultimate)):\n",
    "    try:\n",
    "        title = ultimate[i]['track']['name']\n",
    "        artist = ultimate[i][\"track\"][\"album\"]['artists'][0]['name']\n",
    "        uri = ultimate[i]['track']['uri']\n",
    "        artist_name.append(artist)\n",
    "        title_name.append(title)\n",
    "        track_uri.append(uri)\n",
    "    except:\n",
    "        artist_name.append('none')\n",
    "        title_name.append('none')\n",
    "        track_uri.append('none')"
   ]
  },
  {
   "cell_type": "code",
   "execution_count": 42,
   "id": "58de7196",
   "metadata": {
    "scrolled": true
   },
   "outputs": [
    {
     "data": {
      "text/html": [
       "<div>\n",
       "<style scoped>\n",
       "    .dataframe tbody tr th:only-of-type {\n",
       "        vertical-align: middle;\n",
       "    }\n",
       "\n",
       "    .dataframe tbody tr th {\n",
       "        vertical-align: top;\n",
       "    }\n",
       "\n",
       "    .dataframe thead th {\n",
       "        text-align: right;\n",
       "    }\n",
       "</style>\n",
       "<table border=\"1\" class=\"dataframe\">\n",
       "  <thead>\n",
       "    <tr style=\"text-align: right;\">\n",
       "      <th></th>\n",
       "      <th>title</th>\n",
       "      <th>artist</th>\n",
       "      <th>uri</th>\n",
       "    </tr>\n",
       "  </thead>\n",
       "  <tbody>\n",
       "    <tr>\n",
       "      <th>0</th>\n",
       "      <td>Take Me To Church</td>\n",
       "      <td>Hozier</td>\n",
       "      <td>spotify:track:7dS5EaCoMnN7DzlpT6aRn2</td>\n",
       "    </tr>\n",
       "    <tr>\n",
       "      <th>1</th>\n",
       "      <td>Cooler Than Me - Single Mix</td>\n",
       "      <td>Mike Posner</td>\n",
       "      <td>spotify:track:2V4bv1fNWfTcyRJKmej6Sj</td>\n",
       "    </tr>\n",
       "    <tr>\n",
       "      <th>2</th>\n",
       "      <td>See You Again (feat. Kali Uchis)</td>\n",
       "      <td>Tyler, The Creator</td>\n",
       "      <td>spotify:track:7KA4W4McWYRpgf0fWsJZWB</td>\n",
       "    </tr>\n",
       "    <tr>\n",
       "      <th>3</th>\n",
       "      <td>Pompeii</td>\n",
       "      <td>Bastille</td>\n",
       "      <td>spotify:track:3gbBpTdY8lnQwqxNCcf795</td>\n",
       "    </tr>\n",
       "    <tr>\n",
       "      <th>4</th>\n",
       "      <td>Hips Don't Lie (feat. Wyclef Jean)</td>\n",
       "      <td>Shakira</td>\n",
       "      <td>spotify:track:3ZFTkvIE7kyPt6Nu3PEa7V</td>\n",
       "    </tr>\n",
       "    <tr>\n",
       "      <th>...</th>\n",
       "      <td>...</td>\n",
       "      <td>...</td>\n",
       "      <td>...</td>\n",
       "    </tr>\n",
       "    <tr>\n",
       "      <th>20317</th>\n",
       "      <td>Conference Of The Birds</td>\n",
       "      <td>Dave Holland Quartet</td>\n",
       "      <td>spotify:track:5Vmt3ascqbh0QJCV1een0Q</td>\n",
       "    </tr>\n",
       "    <tr>\n",
       "      <th>20318</th>\n",
       "      <td>You'd Be So Nice to Come Home To</td>\n",
       "      <td>Art Pepper</td>\n",
       "      <td>spotify:track:71KwWlZvuikRRORNH3xvCq</td>\n",
       "    </tr>\n",
       "    <tr>\n",
       "      <th>20319</th>\n",
       "      <td>Bags' Groove</td>\n",
       "      <td>Milt Jackson</td>\n",
       "      <td>spotify:track:1ewQUavRnFAEwPqqwKQ0nF</td>\n",
       "    </tr>\n",
       "    <tr>\n",
       "      <th>20320</th>\n",
       "      <td>St. Thomas</td>\n",
       "      <td>Sonny Rollins</td>\n",
       "      <td>spotify:track:05LNBtMuc26HSAHh7C6iG8</td>\n",
       "    </tr>\n",
       "    <tr>\n",
       "      <th>20321</th>\n",
       "      <td>They Can't Take That Away From Me</td>\n",
       "      <td>Mel Tormé</td>\n",
       "      <td>spotify:track:4WyWVpoXP9z0SczdZdfVI2</td>\n",
       "    </tr>\n",
       "  </tbody>\n",
       "</table>\n",
       "<p>20322 rows × 3 columns</p>\n",
       "</div>"
      ],
      "text/plain": [
       "                                    title                artist  \\\n",
       "0                       Take Me To Church                Hozier   \n",
       "1             Cooler Than Me - Single Mix           Mike Posner   \n",
       "2        See You Again (feat. Kali Uchis)    Tyler, The Creator   \n",
       "3                                 Pompeii              Bastille   \n",
       "4      Hips Don't Lie (feat. Wyclef Jean)               Shakira   \n",
       "...                                   ...                   ...   \n",
       "20317             Conference Of The Birds  Dave Holland Quartet   \n",
       "20318    You'd Be So Nice to Come Home To            Art Pepper   \n",
       "20319                        Bags' Groove          Milt Jackson   \n",
       "20320                          St. Thomas         Sonny Rollins   \n",
       "20321   They Can't Take That Away From Me             Mel Tormé   \n",
       "\n",
       "                                        uri  \n",
       "0      spotify:track:7dS5EaCoMnN7DzlpT6aRn2  \n",
       "1      spotify:track:2V4bv1fNWfTcyRJKmej6Sj  \n",
       "2      spotify:track:7KA4W4McWYRpgf0fWsJZWB  \n",
       "3      spotify:track:3gbBpTdY8lnQwqxNCcf795  \n",
       "4      spotify:track:3ZFTkvIE7kyPt6Nu3PEa7V  \n",
       "...                                     ...  \n",
       "20317  spotify:track:5Vmt3ascqbh0QJCV1een0Q  \n",
       "20318  spotify:track:71KwWlZvuikRRORNH3xvCq  \n",
       "20319  spotify:track:1ewQUavRnFAEwPqqwKQ0nF  \n",
       "20320  spotify:track:05LNBtMuc26HSAHh7C6iG8  \n",
       "20321  spotify:track:4WyWVpoXP9z0SczdZdfVI2  \n",
       "\n",
       "[20322 rows x 3 columns]"
      ]
     },
     "execution_count": 42,
     "metadata": {},
     "output_type": "execute_result"
    }
   ],
   "source": [
    "ultimate_df = pd.DataFrame({'title': title_name,'artist': artist_name,'uri': track_uri})\n",
    "ultimate_df"
   ]
  },
  {
   "cell_type": "code",
   "execution_count": 43,
   "id": "67393258",
   "metadata": {
    "scrolled": true
   },
   "outputs": [
    {
     "name": "stdout",
     "output_type": "stream",
     "text": [
      "<class 'pandas.core.frame.DataFrame'>\n",
      "RangeIndex: 20322 entries, 0 to 20321\n",
      "Data columns (total 3 columns):\n",
      " #   Column  Non-Null Count  Dtype \n",
      "---  ------  --------------  ----- \n",
      " 0   title   20322 non-null  object\n",
      " 1   artist  20322 non-null  object\n",
      " 2   uri     20322 non-null  object\n",
      "dtypes: object(3)\n",
      "memory usage: 476.4+ KB\n"
     ]
    }
   ],
   "source": [
    "ultimate_df.info()"
   ]
  },
  {
   "cell_type": "code",
   "execution_count": 44,
   "id": "bc4ba2d1",
   "metadata": {},
   "outputs": [],
   "source": [
    "# saving to .csv\n",
    "\n",
    "ultimate_df.to_csv('CSV Files/spotify.csv')"
   ]
  }
 ],
 "metadata": {
  "kernelspec": {
   "display_name": "Python 3 (ipykernel)",
   "language": "python",
   "name": "python3"
  },
  "language_info": {
   "codemirror_mode": {
    "name": "ipython",
    "version": 3
   },
   "file_extension": ".py",
   "mimetype": "text/x-python",
   "name": "python",
   "nbconvert_exporter": "python",
   "pygments_lexer": "ipython3",
   "version": "3.9.12"
  },
  "toc": {
   "base_numbering": 1,
   "nav_menu": {},
   "number_sections": true,
   "sideBar": true,
   "skip_h1_title": true,
   "title_cell": "Table of Contents",
   "title_sidebar": "Contents",
   "toc_cell": false,
   "toc_position": {},
   "toc_section_display": true,
   "toc_window_display": false
  }
 },
 "nbformat": 4,
 "nbformat_minor": 5
}
