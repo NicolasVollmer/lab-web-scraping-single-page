{
 "cells": [
  {
   "cell_type": "markdown",
   "id": "6ca7e80c",
   "metadata": {},
   "source": [
    "## Imports"
   ]
  },
  {
   "cell_type": "markdown",
   "id": "074f4e31",
   "metadata": {},
   "source": [
    "### Libraries and Spotify Connection"
   ]
  },
  {
   "cell_type": "code",
   "execution_count": 1,
   "id": "84e60511",
   "metadata": {},
   "outputs": [],
   "source": [
    "import pandas as pd\n",
    "import numpy as np\n",
    "import random\n",
    "import pickle\n",
    "import spotipy\n",
    "from random import randint\n",
    "from IPython.display import clear_output\n",
    "\n",
    "from spotipy.oauth2 import SpotifyClientCredentials"
   ]
  },
  {
   "cell_type": "code",
   "execution_count": 2,
   "id": "9c1c646f",
   "metadata": {},
   "outputs": [],
   "source": [
    "secrets_file = open(\"/Users/NicolasVollmerMac/Documents/Ironhack-Lessons/6.5 API wrappers, Spotipy/secrets.txt\", \"r\")"
   ]
  },
  {
   "cell_type": "code",
   "execution_count": 3,
   "id": "7348a8c4",
   "metadata": {},
   "outputs": [],
   "source": [
    "string = secrets_file.read()"
   ]
  },
  {
   "cell_type": "code",
   "execution_count": 4,
   "id": "23713873",
   "metadata": {},
   "outputs": [],
   "source": [
    "secrets_dict={}\n",
    "for line in string.split('\\n'):\n",
    "    if len(line) > 0:\n",
    "        secrets_dict[line.split(':')[0]]=line.split(':')[1].strip()"
   ]
  },
  {
   "cell_type": "markdown",
   "id": "dc81a34f",
   "metadata": {},
   "source": [
    "### Datafiles"
   ]
  },
  {
   "cell_type": "code",
   "execution_count": 9,
   "id": "b28c437f",
   "metadata": {},
   "outputs": [],
   "source": [
    "spotify_df = pd.read_csv('CSV Files/spotify_clustered.csv')"
   ]
  },
  {
   "cell_type": "code",
   "execution_count": 11,
   "id": "21f393f2",
   "metadata": {},
   "outputs": [],
   "source": [
    "top100_df = pd.read_csv('CSV Files/Hot100_Tracks_Oct_10_2022.csv')"
   ]
  },
  {
   "cell_type": "markdown",
   "id": "e25b67f2",
   "metadata": {},
   "source": [
    "### Pickled Model & Scaler Imports"
   ]
  },
  {
   "cell_type": "code",
   "execution_count": 20,
   "id": "cc981b7c",
   "metadata": {},
   "outputs": [],
   "source": [
    "scaler_pickle = open ('Model Files/scaler.sav', 'rb')\n",
    "scaler = pickle.load(scaler_pickle)"
   ]
  },
  {
   "cell_type": "code",
   "execution_count": 21,
   "id": "b555a4dc",
   "metadata": {},
   "outputs": [],
   "source": [
    "model_pickle = open ('Model Files/kmeans_cluster_model.sav', 'rb')\n",
    "model = pickle.load(model_pickle)"
   ]
  },
  {
   "cell_type": "code",
   "execution_count": null,
   "id": "8a12fd5b",
   "metadata": {},
   "outputs": [],
   "source": []
  },
  {
   "cell_type": "code",
   "execution_count": null,
   "id": "3178c111",
   "metadata": {},
   "outputs": [],
   "source": []
  },
  {
   "cell_type": "code",
   "execution_count": null,
   "id": "7fc61199",
   "metadata": {},
   "outputs": [],
   "source": []
  },
  {
   "cell_type": "code",
   "execution_count": null,
   "id": "c015fcbf",
   "metadata": {},
   "outputs": [],
   "source": []
  },
  {
   "cell_type": "code",
   "execution_count": null,
   "id": "f71201cd",
   "metadata": {},
   "outputs": [],
   "source": []
  },
  {
   "cell_type": "code",
   "execution_count": null,
   "id": "586221a2",
   "metadata": {},
   "outputs": [],
   "source": []
  }
 ],
 "metadata": {
  "kernelspec": {
   "display_name": "Python 3 (ipykernel)",
   "language": "python",
   "name": "python3"
  },
  "language_info": {
   "codemirror_mode": {
    "name": "ipython",
    "version": 3
   },
   "file_extension": ".py",
   "mimetype": "text/x-python",
   "name": "python",
   "nbconvert_exporter": "python",
   "pygments_lexer": "ipython3",
   "version": "3.9.12"
  },
  "toc": {
   "base_numbering": 1,
   "nav_menu": {},
   "number_sections": true,
   "sideBar": true,
   "skip_h1_title": true,
   "title_cell": "Table of Contents",
   "title_sidebar": "Contents",
   "toc_cell": false,
   "toc_position": {},
   "toc_section_display": true,
   "toc_window_display": false
  },
  "varInspector": {
   "cols": {
    "lenName": 16,
    "lenType": 16,
    "lenVar": 40
   },
   "kernels_config": {
    "python": {
     "delete_cmd_postfix": "",
     "delete_cmd_prefix": "del ",
     "library": "var_list.py",
     "varRefreshCmd": "print(var_dic_list())"
    },
    "r": {
     "delete_cmd_postfix": ") ",
     "delete_cmd_prefix": "rm(",
     "library": "var_list.r",
     "varRefreshCmd": "cat(var_dic_list()) "
    }
   },
   "types_to_exclude": [
    "module",
    "function",
    "builtin_function_or_method",
    "instance",
    "_Feature"
   ],
   "window_display": false
  }
 },
 "nbformat": 4,
 "nbformat_minor": 5
}
