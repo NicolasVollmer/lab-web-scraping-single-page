{
 "cells": [
  {
   "cell_type": "code",
   "execution_count": 13,
   "id": "ccf44950",
   "metadata": {},
   "outputs": [],
   "source": [
    "import numpy as np\n",
    "import matplotlib.pyplot as plt\n",
    "import pandas as pd\n",
    "\n",
    "from sklearn.metrics import silhouette_score\n",
    "from sklearn.cluster import KMeans\n",
    "from sklearn.preprocessing import StandardScaler, MinMaxScaler\n",
    "from sklearn import cluster"
   ]
  },
  {
   "cell_type": "code",
   "execution_count": 153,
   "id": "ae594b93",
   "metadata": {},
   "outputs": [],
   "source": [
    "pd.set_option(\"display.max_columns\", None)"
   ]
  },
  {
   "cell_type": "code",
   "execution_count": 154,
   "id": "5b5d2882",
   "metadata": {},
   "outputs": [
    {
     "data": {
      "text/plain": [
       "(18555, 21)"
      ]
     },
     "execution_count": 154,
     "metadata": {},
     "output_type": "execute_result"
    }
   ],
   "source": [
    "data = pd.read_csv('CSV Files/spotify.csv')\n",
    "data.shape"
   ]
  },
  {
   "cell_type": "code",
   "execution_count": 157,
   "id": "70cd82d3",
   "metadata": {
    "scrolled": true
   },
   "outputs": [
    {
     "data": {
      "text/html": [
       "<div>\n",
       "<style scoped>\n",
       "    .dataframe tbody tr th:only-of-type {\n",
       "        vertical-align: middle;\n",
       "    }\n",
       "\n",
       "    .dataframe tbody tr th {\n",
       "        vertical-align: top;\n",
       "    }\n",
       "\n",
       "    .dataframe thead th {\n",
       "        text-align: right;\n",
       "    }\n",
       "</style>\n",
       "<table border=\"1\" class=\"dataframe\">\n",
       "  <thead>\n",
       "    <tr style=\"text-align: right;\">\n",
       "      <th></th>\n",
       "      <th>title</th>\n",
       "      <th>artist</th>\n",
       "      <th>uri</th>\n",
       "      <th>features_danceability</th>\n",
       "      <th>features_energy</th>\n",
       "      <th>features_key</th>\n",
       "      <th>features_loudness</th>\n",
       "      <th>features_mode</th>\n",
       "      <th>features_speechiness</th>\n",
       "      <th>features_acousticness</th>\n",
       "      <th>features_instrumentalness</th>\n",
       "      <th>features_liveness</th>\n",
       "      <th>features_valence</th>\n",
       "      <th>features_tempo</th>\n",
       "      <th>features_type</th>\n",
       "      <th>features_id</th>\n",
       "      <th>features_uri</th>\n",
       "      <th>features_track_href</th>\n",
       "      <th>features_analysis_url</th>\n",
       "      <th>features_duration_ms</th>\n",
       "      <th>features_time_signature</th>\n",
       "    </tr>\n",
       "  </thead>\n",
       "  <tbody>\n",
       "    <tr>\n",
       "      <th>0</th>\n",
       "      <td>See You Again (feat. Kali Uchis)</td>\n",
       "      <td>Tyler, The Creator</td>\n",
       "      <td>spotify:track:7KA4W4McWYRpgf0fWsJZWB</td>\n",
       "      <td>0.558</td>\n",
       "      <td>0.559</td>\n",
       "      <td>6.0</td>\n",
       "      <td>-9.222</td>\n",
       "      <td>1.0</td>\n",
       "      <td>0.0959</td>\n",
       "      <td>0.3710</td>\n",
       "      <td>0.000007</td>\n",
       "      <td>0.1090</td>\n",
       "      <td>0.620</td>\n",
       "      <td>78.558</td>\n",
       "      <td>audio_features</td>\n",
       "      <td>7KA4W4McWYRpgf0fWsJZWB</td>\n",
       "      <td>spotify:track:7KA4W4McWYRpgf0fWsJZWB</td>\n",
       "      <td>https://api.spotify.com/v1/tracks/7KA4W4McWYRp...</td>\n",
       "      <td>https://api.spotify.com/v1/audio-analysis/7KA4...</td>\n",
       "      <td>180387.0</td>\n",
       "      <td>4.0</td>\n",
       "    </tr>\n",
       "    <tr>\n",
       "      <th>1</th>\n",
       "      <td>Hall of Fame (feat. will.i.am)</td>\n",
       "      <td>The Script</td>\n",
       "      <td>spotify:track:7wMq5n8mYSKlQIGECKUgTX</td>\n",
       "      <td>0.421</td>\n",
       "      <td>0.873</td>\n",
       "      <td>10.0</td>\n",
       "      <td>-4.343</td>\n",
       "      <td>1.0</td>\n",
       "      <td>0.0564</td>\n",
       "      <td>0.0654</td>\n",
       "      <td>0.000000</td>\n",
       "      <td>0.1230</td>\n",
       "      <td>0.629</td>\n",
       "      <td>84.786</td>\n",
       "      <td>audio_features</td>\n",
       "      <td>7wMq5n8mYSKlQIGECKUgTX</td>\n",
       "      <td>spotify:track:7wMq5n8mYSKlQIGECKUgTX</td>\n",
       "      <td>https://api.spotify.com/v1/tracks/7wMq5n8mYSKl...</td>\n",
       "      <td>https://api.spotify.com/v1/audio-analysis/7wMq...</td>\n",
       "      <td>202533.0</td>\n",
       "      <td>4.0</td>\n",
       "    </tr>\n",
       "    <tr>\n",
       "      <th>2</th>\n",
       "      <td>Back Where I Belong (feat. Avicii)</td>\n",
       "      <td>Otto Knows</td>\n",
       "      <td>spotify:track:78W8wiUIlQ2SnWY9TVowKZ</td>\n",
       "      <td>0.497</td>\n",
       "      <td>0.865</td>\n",
       "      <td>0.0</td>\n",
       "      <td>-3.190</td>\n",
       "      <td>1.0</td>\n",
       "      <td>0.0644</td>\n",
       "      <td>0.0306</td>\n",
       "      <td>0.067900</td>\n",
       "      <td>0.4430</td>\n",
       "      <td>0.595</td>\n",
       "      <td>125.960</td>\n",
       "      <td>audio_features</td>\n",
       "      <td>78W8wiUIlQ2SnWY9TVowKZ</td>\n",
       "      <td>spotify:track:78W8wiUIlQ2SnWY9TVowKZ</td>\n",
       "      <td>https://api.spotify.com/v1/tracks/78W8wiUIlQ2S...</td>\n",
       "      <td>https://api.spotify.com/v1/audio-analysis/78W8...</td>\n",
       "      <td>174203.0</td>\n",
       "      <td>4.0</td>\n",
       "    </tr>\n",
       "    <tr>\n",
       "      <th>3</th>\n",
       "      <td>Bumpy Ride</td>\n",
       "      <td>Mohombi</td>\n",
       "      <td>spotify:track:0tBRo4P60DgKmg4jt48upm</td>\n",
       "      <td>0.709</td>\n",
       "      <td>0.854</td>\n",
       "      <td>0.0</td>\n",
       "      <td>-4.447</td>\n",
       "      <td>0.0</td>\n",
       "      <td>0.0399</td>\n",
       "      <td>0.0470</td>\n",
       "      <td>0.000000</td>\n",
       "      <td>0.0724</td>\n",
       "      <td>0.826</td>\n",
       "      <td>105.074</td>\n",
       "      <td>audio_features</td>\n",
       "      <td>0tBRo4P60DgKmg4jt48upm</td>\n",
       "      <td>spotify:track:0tBRo4P60DgKmg4jt48upm</td>\n",
       "      <td>https://api.spotify.com/v1/tracks/0tBRo4P60DgK...</td>\n",
       "      <td>https://api.spotify.com/v1/audio-analysis/0tBR...</td>\n",
       "      <td>224402.0</td>\n",
       "      <td>4.0</td>\n",
       "    </tr>\n",
       "    <tr>\n",
       "      <th>4</th>\n",
       "      <td>Danza Kuduro (feat. Don Omar)</td>\n",
       "      <td>Lucenzo</td>\n",
       "      <td>spotify:track:1kAZhbcsXqfUjnVeqPywn2</td>\n",
       "      <td>0.706</td>\n",
       "      <td>0.890</td>\n",
       "      <td>0.0</td>\n",
       "      <td>-6.575</td>\n",
       "      <td>1.0</td>\n",
       "      <td>0.0847</td>\n",
       "      <td>0.0855</td>\n",
       "      <td>0.000000</td>\n",
       "      <td>0.0465</td>\n",
       "      <td>0.896</td>\n",
       "      <td>130.051</td>\n",
       "      <td>audio_features</td>\n",
       "      <td>1kAZhbcsXqfUjnVeqPywn2</td>\n",
       "      <td>spotify:track:1kAZhbcsXqfUjnVeqPywn2</td>\n",
       "      <td>https://api.spotify.com/v1/tracks/1kAZhbcsXqfU...</td>\n",
       "      <td>https://api.spotify.com/v1/audio-analysis/1kAZ...</td>\n",
       "      <td>202347.0</td>\n",
       "      <td>4.0</td>\n",
       "    </tr>\n",
       "  </tbody>\n",
       "</table>\n",
       "</div>"
      ],
      "text/plain": [
       "                                title              artist  \\\n",
       "0    See You Again (feat. Kali Uchis)  Tyler, The Creator   \n",
       "1      Hall of Fame (feat. will.i.am)          The Script   \n",
       "2  Back Where I Belong (feat. Avicii)          Otto Knows   \n",
       "3                          Bumpy Ride             Mohombi   \n",
       "4       Danza Kuduro (feat. Don Omar)             Lucenzo   \n",
       "\n",
       "                                    uri  features_danceability  \\\n",
       "0  spotify:track:7KA4W4McWYRpgf0fWsJZWB                  0.558   \n",
       "1  spotify:track:7wMq5n8mYSKlQIGECKUgTX                  0.421   \n",
       "2  spotify:track:78W8wiUIlQ2SnWY9TVowKZ                  0.497   \n",
       "3  spotify:track:0tBRo4P60DgKmg4jt48upm                  0.709   \n",
       "4  spotify:track:1kAZhbcsXqfUjnVeqPywn2                  0.706   \n",
       "\n",
       "   features_energy  features_key  features_loudness  features_mode  \\\n",
       "0            0.559           6.0             -9.222            1.0   \n",
       "1            0.873          10.0             -4.343            1.0   \n",
       "2            0.865           0.0             -3.190            1.0   \n",
       "3            0.854           0.0             -4.447            0.0   \n",
       "4            0.890           0.0             -6.575            1.0   \n",
       "\n",
       "   features_speechiness  features_acousticness  features_instrumentalness  \\\n",
       "0                0.0959                 0.3710                   0.000007   \n",
       "1                0.0564                 0.0654                   0.000000   \n",
       "2                0.0644                 0.0306                   0.067900   \n",
       "3                0.0399                 0.0470                   0.000000   \n",
       "4                0.0847                 0.0855                   0.000000   \n",
       "\n",
       "   features_liveness  features_valence  features_tempo   features_type  \\\n",
       "0             0.1090             0.620          78.558  audio_features   \n",
       "1             0.1230             0.629          84.786  audio_features   \n",
       "2             0.4430             0.595         125.960  audio_features   \n",
       "3             0.0724             0.826         105.074  audio_features   \n",
       "4             0.0465             0.896         130.051  audio_features   \n",
       "\n",
       "              features_id                          features_uri  \\\n",
       "0  7KA4W4McWYRpgf0fWsJZWB  spotify:track:7KA4W4McWYRpgf0fWsJZWB   \n",
       "1  7wMq5n8mYSKlQIGECKUgTX  spotify:track:7wMq5n8mYSKlQIGECKUgTX   \n",
       "2  78W8wiUIlQ2SnWY9TVowKZ  spotify:track:78W8wiUIlQ2SnWY9TVowKZ   \n",
       "3  0tBRo4P60DgKmg4jt48upm  spotify:track:0tBRo4P60DgKmg4jt48upm   \n",
       "4  1kAZhbcsXqfUjnVeqPywn2  spotify:track:1kAZhbcsXqfUjnVeqPywn2   \n",
       "\n",
       "                                 features_track_href  \\\n",
       "0  https://api.spotify.com/v1/tracks/7KA4W4McWYRp...   \n",
       "1  https://api.spotify.com/v1/tracks/7wMq5n8mYSKl...   \n",
       "2  https://api.spotify.com/v1/tracks/78W8wiUIlQ2S...   \n",
       "3  https://api.spotify.com/v1/tracks/0tBRo4P60DgK...   \n",
       "4  https://api.spotify.com/v1/tracks/1kAZhbcsXqfU...   \n",
       "\n",
       "                               features_analysis_url  features_duration_ms  \\\n",
       "0  https://api.spotify.com/v1/audio-analysis/7KA4...              180387.0   \n",
       "1  https://api.spotify.com/v1/audio-analysis/7wMq...              202533.0   \n",
       "2  https://api.spotify.com/v1/audio-analysis/78W8...              174203.0   \n",
       "3  https://api.spotify.com/v1/audio-analysis/0tBR...              224402.0   \n",
       "4  https://api.spotify.com/v1/audio-analysis/1kAZ...              202347.0   \n",
       "\n",
       "   features_time_signature  \n",
       "0                      4.0  \n",
       "1                      4.0  \n",
       "2                      4.0  \n",
       "3                      4.0  \n",
       "4                      4.0  "
      ]
     },
     "execution_count": 157,
     "metadata": {},
     "output_type": "execute_result"
    }
   ],
   "source": [
    "data.head()"
   ]
  },
  {
   "cell_type": "code",
   "execution_count": 158,
   "id": "f12cdc65",
   "metadata": {},
   "outputs": [],
   "source": [
    "data=data.dropna()"
   ]
  },
  {
   "cell_type": "code",
   "execution_count": 159,
   "id": "96e4171b",
   "metadata": {
    "scrolled": true
   },
   "outputs": [
    {
     "name": "stdout",
     "output_type": "stream",
     "text": [
      "<class 'pandas.core.frame.DataFrame'>\n",
      "Int64Index: 18553 entries, 0 to 18554\n",
      "Data columns (total 21 columns):\n",
      " #   Column                     Non-Null Count  Dtype  \n",
      "---  ------                     --------------  -----  \n",
      " 0   title                      18553 non-null  object \n",
      " 1   artist                     18553 non-null  object \n",
      " 2   uri                        18553 non-null  object \n",
      " 3   features_danceability      18553 non-null  float64\n",
      " 4   features_energy            18553 non-null  float64\n",
      " 5   features_key               18553 non-null  float64\n",
      " 6   features_loudness          18553 non-null  float64\n",
      " 7   features_mode              18553 non-null  float64\n",
      " 8   features_speechiness       18553 non-null  float64\n",
      " 9   features_acousticness      18553 non-null  float64\n",
      " 10  features_instrumentalness  18553 non-null  float64\n",
      " 11  features_liveness          18553 non-null  float64\n",
      " 12  features_valence           18553 non-null  float64\n",
      " 13  features_tempo             18553 non-null  float64\n",
      " 14  features_type              18553 non-null  object \n",
      " 15  features_id                18553 non-null  object \n",
      " 16  features_uri               18553 non-null  object \n",
      " 17  features_track_href        18553 non-null  object \n",
      " 18  features_analysis_url      18553 non-null  object \n",
      " 19  features_duration_ms       18553 non-null  float64\n",
      " 20  features_time_signature    18553 non-null  float64\n",
      "dtypes: float64(13), object(8)\n",
      "memory usage: 3.1+ MB\n"
     ]
    }
   ],
   "source": [
    "data.info()"
   ]
  },
  {
   "cell_type": "markdown",
   "id": "ae272689",
   "metadata": {},
   "source": [
    "#### Dropping Cols"
   ]
  },
  {
   "cell_type": "code",
   "execution_count": 160,
   "id": "ec54b89d",
   "metadata": {},
   "outputs": [
    {
     "data": {
      "text/plain": [
       "4.0    17294\n",
       "3.0     1001\n",
       "5.0      161\n",
       "1.0       96\n",
       "0.0        1\n",
       "Name: features_time_signature, dtype: int64"
      ]
     },
     "execution_count": 160,
     "metadata": {},
     "output_type": "execute_result"
    }
   ],
   "source": [
    "data['features_time_signature'].value_counts()"
   ]
  },
  {
   "cell_type": "code",
   "execution_count": 161,
   "id": "6cc0991c",
   "metadata": {},
   "outputs": [
    {
     "name": "stdout",
     "output_type": "stream",
     "text": [
      "<class 'pandas.core.frame.DataFrame'>\n",
      "Int64Index: 18553 entries, 0 to 18554\n",
      "Data columns (total 21 columns):\n",
      " #   Column                     Non-Null Count  Dtype  \n",
      "---  ------                     --------------  -----  \n",
      " 0   title                      18553 non-null  object \n",
      " 1   artist                     18553 non-null  object \n",
      " 2   uri                        18553 non-null  object \n",
      " 3   features_danceability      18553 non-null  float64\n",
      " 4   features_energy            18553 non-null  float64\n",
      " 5   features_key               18553 non-null  float64\n",
      " 6   features_loudness          18553 non-null  float64\n",
      " 7   features_mode              18553 non-null  float64\n",
      " 8   features_speechiness       18553 non-null  float64\n",
      " 9   features_acousticness      18553 non-null  float64\n",
      " 10  features_instrumentalness  18553 non-null  float64\n",
      " 11  features_liveness          18553 non-null  float64\n",
      " 12  features_valence           18553 non-null  float64\n",
      " 13  features_tempo             18553 non-null  float64\n",
      " 14  features_type              18553 non-null  object \n",
      " 15  features_id                18553 non-null  object \n",
      " 16  features_uri               18553 non-null  object \n",
      " 17  features_track_href        18553 non-null  object \n",
      " 18  features_analysis_url      18553 non-null  object \n",
      " 19  features_duration_ms       18553 non-null  float64\n",
      " 20  features_time_signature    18553 non-null  float64\n",
      "dtypes: float64(13), object(8)\n",
      "memory usage: 3.1+ MB\n"
     ]
    }
   ],
   "source": [
    "data.info()"
   ]
  },
  {
   "cell_type": "code",
   "execution_count": 162,
   "id": "2099351b",
   "metadata": {},
   "outputs": [],
   "source": [
    "# Dropping unnecessary columns: \n",
    "data = data.drop(['features_type', 'features_id','features_uri', 'features_track_href', 'features_analysis_url'], axis=1)"
   ]
  },
  {
   "cell_type": "code",
   "execution_count": 163,
   "id": "9074dd76",
   "metadata": {},
   "outputs": [],
   "source": [
    "# remove header prefix\n",
    "data.columns = data.columns.str.replace(\"features_\", \"\")"
   ]
  },
  {
   "cell_type": "code",
   "execution_count": 164,
   "id": "4b0751fe",
   "metadata": {},
   "outputs": [
    {
     "data": {
      "text/html": [
       "<div>\n",
       "<style scoped>\n",
       "    .dataframe tbody tr th:only-of-type {\n",
       "        vertical-align: middle;\n",
       "    }\n",
       "\n",
       "    .dataframe tbody tr th {\n",
       "        vertical-align: top;\n",
       "    }\n",
       "\n",
       "    .dataframe thead th {\n",
       "        text-align: right;\n",
       "    }\n",
       "</style>\n",
       "<table border=\"1\" class=\"dataframe\">\n",
       "  <thead>\n",
       "    <tr style=\"text-align: right;\">\n",
       "      <th></th>\n",
       "      <th>title</th>\n",
       "      <th>artist</th>\n",
       "      <th>uri</th>\n",
       "      <th>danceability</th>\n",
       "      <th>energy</th>\n",
       "      <th>key</th>\n",
       "      <th>loudness</th>\n",
       "      <th>mode</th>\n",
       "      <th>speechiness</th>\n",
       "      <th>acousticness</th>\n",
       "      <th>instrumentalness</th>\n",
       "      <th>liveness</th>\n",
       "      <th>valence</th>\n",
       "      <th>tempo</th>\n",
       "      <th>duration_ms</th>\n",
       "      <th>time_signature</th>\n",
       "    </tr>\n",
       "  </thead>\n",
       "  <tbody>\n",
       "    <tr>\n",
       "      <th>0</th>\n",
       "      <td>See You Again (feat. Kali Uchis)</td>\n",
       "      <td>Tyler, The Creator</td>\n",
       "      <td>spotify:track:7KA4W4McWYRpgf0fWsJZWB</td>\n",
       "      <td>0.558</td>\n",
       "      <td>0.559</td>\n",
       "      <td>6.0</td>\n",
       "      <td>-9.222</td>\n",
       "      <td>1.0</td>\n",
       "      <td>0.0959</td>\n",
       "      <td>0.371</td>\n",
       "      <td>0.000007</td>\n",
       "      <td>0.109</td>\n",
       "      <td>0.62</td>\n",
       "      <td>78.558</td>\n",
       "      <td>180387.0</td>\n",
       "      <td>4.0</td>\n",
       "    </tr>\n",
       "  </tbody>\n",
       "</table>\n",
       "</div>"
      ],
      "text/plain": [
       "                              title              artist  \\\n",
       "0  See You Again (feat. Kali Uchis)  Tyler, The Creator   \n",
       "\n",
       "                                    uri  danceability  energy  key  loudness  \\\n",
       "0  spotify:track:7KA4W4McWYRpgf0fWsJZWB         0.558   0.559  6.0    -9.222   \n",
       "\n",
       "   mode  speechiness  acousticness  instrumentalness  liveness  valence  \\\n",
       "0   1.0       0.0959         0.371          0.000007     0.109     0.62   \n",
       "\n",
       "    tempo  duration_ms  time_signature  \n",
       "0  78.558     180387.0             4.0  "
      ]
     },
     "execution_count": 164,
     "metadata": {},
     "output_type": "execute_result"
    }
   ],
   "source": [
    "data.head(1)"
   ]
  },
  {
   "cell_type": "markdown",
   "id": "52f0cd9e",
   "metadata": {},
   "source": [
    "#### Scaling"
   ]
  },
  {
   "cell_type": "code",
   "execution_count": 165,
   "id": "473cbd19",
   "metadata": {},
   "outputs": [],
   "source": [
    "X = data.drop(columns = ['title', 'artist', 'uri'])"
   ]
  },
  {
   "cell_type": "code",
   "execution_count": 166,
   "id": "0ffec321",
   "metadata": {},
   "outputs": [
    {
     "data": {
      "text/html": [
       "<div>\n",
       "<style scoped>\n",
       "    .dataframe tbody tr th:only-of-type {\n",
       "        vertical-align: middle;\n",
       "    }\n",
       "\n",
       "    .dataframe tbody tr th {\n",
       "        vertical-align: top;\n",
       "    }\n",
       "\n",
       "    .dataframe thead th {\n",
       "        text-align: right;\n",
       "    }\n",
       "</style>\n",
       "<table border=\"1\" class=\"dataframe\">\n",
       "  <thead>\n",
       "    <tr style=\"text-align: right;\">\n",
       "      <th></th>\n",
       "      <th>count</th>\n",
       "      <th>mean</th>\n",
       "      <th>std</th>\n",
       "      <th>min</th>\n",
       "      <th>25%</th>\n",
       "      <th>50%</th>\n",
       "      <th>75%</th>\n",
       "      <th>max</th>\n",
       "    </tr>\n",
       "  </thead>\n",
       "  <tbody>\n",
       "    <tr>\n",
       "      <th>danceability</th>\n",
       "      <td>18553.0</td>\n",
       "      <td>0.585907</td>\n",
       "      <td>0.165984</td>\n",
       "      <td>0.00000</td>\n",
       "      <td>0.4740</td>\n",
       "      <td>0.598000</td>\n",
       "      <td>0.7060</td>\n",
       "      <td>0.988</td>\n",
       "    </tr>\n",
       "    <tr>\n",
       "      <th>energy</th>\n",
       "      <td>18553.0</td>\n",
       "      <td>0.629080</td>\n",
       "      <td>0.227950</td>\n",
       "      <td>0.00002</td>\n",
       "      <td>0.4680</td>\n",
       "      <td>0.664000</td>\n",
       "      <td>0.8150</td>\n",
       "      <td>1.000</td>\n",
       "    </tr>\n",
       "    <tr>\n",
       "      <th>key</th>\n",
       "      <td>18553.0</td>\n",
       "      <td>5.293430</td>\n",
       "      <td>3.561695</td>\n",
       "      <td>0.00000</td>\n",
       "      <td>2.0000</td>\n",
       "      <td>5.000000</td>\n",
       "      <td>9.0000</td>\n",
       "      <td>11.000</td>\n",
       "    </tr>\n",
       "    <tr>\n",
       "      <th>loudness</th>\n",
       "      <td>18553.0</td>\n",
       "      <td>-8.527404</td>\n",
       "      <td>3.892805</td>\n",
       "      <td>-60.00000</td>\n",
       "      <td>-10.7790</td>\n",
       "      <td>-7.772000</td>\n",
       "      <td>-5.6130</td>\n",
       "      <td>1.342</td>\n",
       "    </tr>\n",
       "    <tr>\n",
       "      <th>mode</th>\n",
       "      <td>18553.0</td>\n",
       "      <td>0.646742</td>\n",
       "      <td>0.477995</td>\n",
       "      <td>0.00000</td>\n",
       "      <td>0.0000</td>\n",
       "      <td>1.000000</td>\n",
       "      <td>1.0000</td>\n",
       "      <td>1.000</td>\n",
       "    </tr>\n",
       "    <tr>\n",
       "      <th>speechiness</th>\n",
       "      <td>18553.0</td>\n",
       "      <td>0.078317</td>\n",
       "      <td>0.081425</td>\n",
       "      <td>0.00000</td>\n",
       "      <td>0.0346</td>\n",
       "      <td>0.046600</td>\n",
       "      <td>0.0801</td>\n",
       "      <td>0.934</td>\n",
       "    </tr>\n",
       "    <tr>\n",
       "      <th>acousticness</th>\n",
       "      <td>18553.0</td>\n",
       "      <td>0.274298</td>\n",
       "      <td>0.308021</td>\n",
       "      <td>0.00000</td>\n",
       "      <td>0.0214</td>\n",
       "      <td>0.131000</td>\n",
       "      <td>0.4720</td>\n",
       "      <td>0.996</td>\n",
       "    </tr>\n",
       "    <tr>\n",
       "      <th>instrumentalness</th>\n",
       "      <td>18553.0</td>\n",
       "      <td>0.128426</td>\n",
       "      <td>0.272620</td>\n",
       "      <td>0.00000</td>\n",
       "      <td>0.0000</td>\n",
       "      <td>0.000164</td>\n",
       "      <td>0.0378</td>\n",
       "      <td>0.993</td>\n",
       "    </tr>\n",
       "    <tr>\n",
       "      <th>liveness</th>\n",
       "      <td>18553.0</td>\n",
       "      <td>0.198348</td>\n",
       "      <td>0.173086</td>\n",
       "      <td>0.00829</td>\n",
       "      <td>0.0946</td>\n",
       "      <td>0.128000</td>\n",
       "      <td>0.2500</td>\n",
       "      <td>1.000</td>\n",
       "    </tr>\n",
       "    <tr>\n",
       "      <th>valence</th>\n",
       "      <td>18553.0</td>\n",
       "      <td>0.540240</td>\n",
       "      <td>0.244779</td>\n",
       "      <td>0.00000</td>\n",
       "      <td>0.3470</td>\n",
       "      <td>0.545000</td>\n",
       "      <td>0.7390</td>\n",
       "      <td>1.000</td>\n",
       "    </tr>\n",
       "    <tr>\n",
       "      <th>tempo</th>\n",
       "      <td>18553.0</td>\n",
       "      <td>121.269597</td>\n",
       "      <td>28.335034</td>\n",
       "      <td>0.00000</td>\n",
       "      <td>99.8810</td>\n",
       "      <td>120.567000</td>\n",
       "      <td>138.0390</td>\n",
       "      <td>221.764</td>\n",
       "    </tr>\n",
       "    <tr>\n",
       "      <th>duration_ms</th>\n",
       "      <td>18553.0</td>\n",
       "      <td>237047.268636</td>\n",
       "      <td>101708.722497</td>\n",
       "      <td>19200.00000</td>\n",
       "      <td>181733.0000</td>\n",
       "      <td>219613.000000</td>\n",
       "      <td>267347.0000</td>\n",
       "      <td>2516987.000</td>\n",
       "    </tr>\n",
       "    <tr>\n",
       "      <th>time_signature</th>\n",
       "      <td>18553.0</td>\n",
       "      <td>3.938986</td>\n",
       "      <td>0.326107</td>\n",
       "      <td>0.00000</td>\n",
       "      <td>4.0000</td>\n",
       "      <td>4.000000</td>\n",
       "      <td>4.0000</td>\n",
       "      <td>5.000</td>\n",
       "    </tr>\n",
       "  </tbody>\n",
       "</table>\n",
       "</div>"
      ],
      "text/plain": [
       "                    count           mean            std          min  \\\n",
       "danceability      18553.0       0.585907       0.165984      0.00000   \n",
       "energy            18553.0       0.629080       0.227950      0.00002   \n",
       "key               18553.0       5.293430       3.561695      0.00000   \n",
       "loudness          18553.0      -8.527404       3.892805    -60.00000   \n",
       "mode              18553.0       0.646742       0.477995      0.00000   \n",
       "speechiness       18553.0       0.078317       0.081425      0.00000   \n",
       "acousticness      18553.0       0.274298       0.308021      0.00000   \n",
       "instrumentalness  18553.0       0.128426       0.272620      0.00000   \n",
       "liveness          18553.0       0.198348       0.173086      0.00829   \n",
       "valence           18553.0       0.540240       0.244779      0.00000   \n",
       "tempo             18553.0     121.269597      28.335034      0.00000   \n",
       "duration_ms       18553.0  237047.268636  101708.722497  19200.00000   \n",
       "time_signature    18553.0       3.938986       0.326107      0.00000   \n",
       "\n",
       "                          25%            50%          75%          max  \n",
       "danceability           0.4740       0.598000       0.7060        0.988  \n",
       "energy                 0.4680       0.664000       0.8150        1.000  \n",
       "key                    2.0000       5.000000       9.0000       11.000  \n",
       "loudness             -10.7790      -7.772000      -5.6130        1.342  \n",
       "mode                   0.0000       1.000000       1.0000        1.000  \n",
       "speechiness            0.0346       0.046600       0.0801        0.934  \n",
       "acousticness           0.0214       0.131000       0.4720        0.996  \n",
       "instrumentalness       0.0000       0.000164       0.0378        0.993  \n",
       "liveness               0.0946       0.128000       0.2500        1.000  \n",
       "valence                0.3470       0.545000       0.7390        1.000  \n",
       "tempo                 99.8810     120.567000     138.0390      221.764  \n",
       "duration_ms       181733.0000  219613.000000  267347.0000  2516987.000  \n",
       "time_signature         4.0000       4.000000       4.0000        5.000  "
      ]
     },
     "execution_count": 166,
     "metadata": {},
     "output_type": "execute_result"
    }
   ],
   "source": [
    "X.describe().T"
   ]
  },
  {
   "cell_type": "markdown",
   "id": "921c8af5",
   "metadata": {},
   "source": [
    "not sure if duration is going to be importaint? Will keep it around for now."
   ]
  },
  {
   "cell_type": "code",
   "execution_count": 167,
   "id": "d5ae5ac4",
   "metadata": {},
   "outputs": [
    {
     "data": {
      "text/plain": [
       "False"
      ]
     },
     "execution_count": 167,
     "metadata": {},
     "output_type": "execute_result"
    }
   ],
   "source": [
    "X.isnull().values.any()\n"
   ]
  },
  {
   "cell_type": "code",
   "execution_count": 188,
   "id": "55d3548e",
   "metadata": {},
   "outputs": [
    {
     "data": {
      "text/html": [
       "<div>\n",
       "<style scoped>\n",
       "    .dataframe tbody tr th:only-of-type {\n",
       "        vertical-align: middle;\n",
       "    }\n",
       "\n",
       "    .dataframe tbody tr th {\n",
       "        vertical-align: top;\n",
       "    }\n",
       "\n",
       "    .dataframe thead th {\n",
       "        text-align: right;\n",
       "    }\n",
       "</style>\n",
       "<table border=\"1\" class=\"dataframe\">\n",
       "  <thead>\n",
       "    <tr style=\"text-align: right;\">\n",
       "      <th></th>\n",
       "      <th>danceability</th>\n",
       "      <th>energy</th>\n",
       "      <th>key</th>\n",
       "      <th>loudness</th>\n",
       "      <th>mode</th>\n",
       "      <th>speechiness</th>\n",
       "      <th>acousticness</th>\n",
       "      <th>instrumentalness</th>\n",
       "      <th>liveness</th>\n",
       "      <th>valence</th>\n",
       "      <th>tempo</th>\n",
       "      <th>duration_ms</th>\n",
       "      <th>time_signature</th>\n",
       "    </tr>\n",
       "  </thead>\n",
       "  <tbody>\n",
       "    <tr>\n",
       "      <th>0</th>\n",
       "      <td>-0.168135</td>\n",
       "      <td>-0.307447</td>\n",
       "      <td>0.198386</td>\n",
       "      <td>-0.178435</td>\n",
       "      <td>0.739062</td>\n",
       "      <td>0.215944</td>\n",
       "      <td>0.313955</td>\n",
       "      <td>-0.471066</td>\n",
       "      <td>-0.516221</td>\n",
       "      <td>0.325854</td>\n",
       "      <td>-1.507418</td>\n",
       "      <td>-0.557099</td>\n",
       "      <td>0.187104</td>\n",
       "    </tr>\n",
       "    <tr>\n",
       "      <th>1</th>\n",
       "      <td>-0.993538</td>\n",
       "      <td>1.070087</td>\n",
       "      <td>1.321477</td>\n",
       "      <td>1.074936</td>\n",
       "      <td>0.739062</td>\n",
       "      <td>-0.269175</td>\n",
       "      <td>-0.678212</td>\n",
       "      <td>-0.471094</td>\n",
       "      <td>-0.435334</td>\n",
       "      <td>0.362623</td>\n",
       "      <td>-1.287614</td>\n",
       "      <td>-0.339353</td>\n",
       "      <td>0.187104</td>\n",
       "    </tr>\n",
       "    <tr>\n",
       "      <th>2</th>\n",
       "      <td>-0.535650</td>\n",
       "      <td>1.034991</td>\n",
       "      <td>-1.486251</td>\n",
       "      <td>1.371132</td>\n",
       "      <td>0.739062</td>\n",
       "      <td>-0.170923</td>\n",
       "      <td>-0.791194</td>\n",
       "      <td>-0.222022</td>\n",
       "      <td>1.413503</td>\n",
       "      <td>0.223719</td>\n",
       "      <td>0.165538</td>\n",
       "      <td>-0.617901</td>\n",
       "      <td>0.187104</td>\n",
       "    </tr>\n",
       "    <tr>\n",
       "      <th>3</th>\n",
       "      <td>0.741616</td>\n",
       "      <td>0.986733</td>\n",
       "      <td>-1.486251</td>\n",
       "      <td>1.048220</td>\n",
       "      <td>-1.353067</td>\n",
       "      <td>-0.471820</td>\n",
       "      <td>-0.737949</td>\n",
       "      <td>-0.471094</td>\n",
       "      <td>-0.727682</td>\n",
       "      <td>1.167451</td>\n",
       "      <td>-0.571590</td>\n",
       "      <td>-0.124332</td>\n",
       "      <td>0.187104</td>\n",
       "    </tr>\n",
       "    <tr>\n",
       "      <th>4</th>\n",
       "      <td>0.723541</td>\n",
       "      <td>1.144667</td>\n",
       "      <td>-1.486251</td>\n",
       "      <td>0.501555</td>\n",
       "      <td>0.739062</td>\n",
       "      <td>0.078391</td>\n",
       "      <td>-0.612955</td>\n",
       "      <td>-0.471094</td>\n",
       "      <td>-0.877322</td>\n",
       "      <td>1.453430</td>\n",
       "      <td>0.309922</td>\n",
       "      <td>-0.341182</td>\n",
       "      <td>0.187104</td>\n",
       "    </tr>\n",
       "  </tbody>\n",
       "</table>\n",
       "</div>"
      ],
      "text/plain": [
       "   danceability    energy       key  loudness      mode  speechiness  \\\n",
       "0     -0.168135 -0.307447  0.198386 -0.178435  0.739062     0.215944   \n",
       "1     -0.993538  1.070087  1.321477  1.074936  0.739062    -0.269175   \n",
       "2     -0.535650  1.034991 -1.486251  1.371132  0.739062    -0.170923   \n",
       "3      0.741616  0.986733 -1.486251  1.048220 -1.353067    -0.471820   \n",
       "4      0.723541  1.144667 -1.486251  0.501555  0.739062     0.078391   \n",
       "\n",
       "   acousticness  instrumentalness  liveness   valence     tempo  duration_ms  \\\n",
       "0      0.313955         -0.471066 -0.516221  0.325854 -1.507418    -0.557099   \n",
       "1     -0.678212         -0.471094 -0.435334  0.362623 -1.287614    -0.339353   \n",
       "2     -0.791194         -0.222022  1.413503  0.223719  0.165538    -0.617901   \n",
       "3     -0.737949         -0.471094 -0.727682  1.167451 -0.571590    -0.124332   \n",
       "4     -0.612955         -0.471094 -0.877322  1.453430  0.309922    -0.341182   \n",
       "\n",
       "   time_signature  \n",
       "0        0.187104  \n",
       "1        0.187104  \n",
       "2        0.187104  \n",
       "3        0.187104  \n",
       "4        0.187104  "
      ]
     },
     "execution_count": 188,
     "metadata": {},
     "output_type": "execute_result"
    }
   ],
   "source": [
    "scaler = StandardScaler().fit_transform(X)\n",
    "X_scaled = pd.DataFrame(scaler,columns=X.columns)\n",
    "X_scaled.head()"
   ]
  },
  {
   "cell_type": "code",
   "execution_count": 182,
   "id": "d7ff48c7",
   "metadata": {},
   "outputs": [
    {
     "data": {
      "text/html": [
       "<style>#sk-container-id-7 {color: black;background-color: white;}#sk-container-id-7 pre{padding: 0;}#sk-container-id-7 div.sk-toggleable {background-color: white;}#sk-container-id-7 label.sk-toggleable__label {cursor: pointer;display: block;width: 100%;margin-bottom: 0;padding: 0.3em;box-sizing: border-box;text-align: center;}#sk-container-id-7 label.sk-toggleable__label-arrow:before {content: \"▸\";float: left;margin-right: 0.25em;color: #696969;}#sk-container-id-7 label.sk-toggleable__label-arrow:hover:before {color: black;}#sk-container-id-7 div.sk-estimator:hover label.sk-toggleable__label-arrow:before {color: black;}#sk-container-id-7 div.sk-toggleable__content {max-height: 0;max-width: 0;overflow: hidden;text-align: left;background-color: #f0f8ff;}#sk-container-id-7 div.sk-toggleable__content pre {margin: 0.2em;color: black;border-radius: 0.25em;background-color: #f0f8ff;}#sk-container-id-7 input.sk-toggleable__control:checked~div.sk-toggleable__content {max-height: 200px;max-width: 100%;overflow: auto;}#sk-container-id-7 input.sk-toggleable__control:checked~label.sk-toggleable__label-arrow:before {content: \"▾\";}#sk-container-id-7 div.sk-estimator input.sk-toggleable__control:checked~label.sk-toggleable__label {background-color: #d4ebff;}#sk-container-id-7 div.sk-label input.sk-toggleable__control:checked~label.sk-toggleable__label {background-color: #d4ebff;}#sk-container-id-7 input.sk-hidden--visually {border: 0;clip: rect(1px 1px 1px 1px);clip: rect(1px, 1px, 1px, 1px);height: 1px;margin: -1px;overflow: hidden;padding: 0;position: absolute;width: 1px;}#sk-container-id-7 div.sk-estimator {font-family: monospace;background-color: #f0f8ff;border: 1px dotted black;border-radius: 0.25em;box-sizing: border-box;margin-bottom: 0.5em;}#sk-container-id-7 div.sk-estimator:hover {background-color: #d4ebff;}#sk-container-id-7 div.sk-parallel-item::after {content: \"\";width: 100%;border-bottom: 1px solid gray;flex-grow: 1;}#sk-container-id-7 div.sk-label:hover label.sk-toggleable__label {background-color: #d4ebff;}#sk-container-id-7 div.sk-serial::before {content: \"\";position: absolute;border-left: 1px solid gray;box-sizing: border-box;top: 0;bottom: 0;left: 50%;z-index: 0;}#sk-container-id-7 div.sk-serial {display: flex;flex-direction: column;align-items: center;background-color: white;padding-right: 0.2em;padding-left: 0.2em;position: relative;}#sk-container-id-7 div.sk-item {position: relative;z-index: 1;}#sk-container-id-7 div.sk-parallel {display: flex;align-items: stretch;justify-content: center;background-color: white;position: relative;}#sk-container-id-7 div.sk-item::before, #sk-container-id-7 div.sk-parallel-item::before {content: \"\";position: absolute;border-left: 1px solid gray;box-sizing: border-box;top: 0;bottom: 0;left: 50%;z-index: -1;}#sk-container-id-7 div.sk-parallel-item {display: flex;flex-direction: column;z-index: 1;position: relative;background-color: white;}#sk-container-id-7 div.sk-parallel-item:first-child::after {align-self: flex-end;width: 50%;}#sk-container-id-7 div.sk-parallel-item:last-child::after {align-self: flex-start;width: 50%;}#sk-container-id-7 div.sk-parallel-item:only-child::after {width: 0;}#sk-container-id-7 div.sk-dashed-wrapped {border: 1px dashed gray;margin: 0 0.4em 0.5em 0.4em;box-sizing: border-box;padding-bottom: 0.4em;background-color: white;}#sk-container-id-7 div.sk-label label {font-family: monospace;font-weight: bold;display: inline-block;line-height: 1.2em;}#sk-container-id-7 div.sk-label-container {text-align: center;}#sk-container-id-7 div.sk-container {/* jupyter's `normalize.less` sets `[hidden] { display: none; }` but bootstrap.min.css set `[hidden] { display: none !important; }` so we also need the `!important` here to be able to override the default hidden behavior on the sphinx rendered scikit-learn.org. See: https://github.com/scikit-learn/scikit-learn/issues/21755 */display: inline-block !important;position: relative;}#sk-container-id-7 div.sk-text-repr-fallback {display: none;}</style><div id=\"sk-container-id-7\" class=\"sk-top-container\"><div class=\"sk-text-repr-fallback\"><pre>KMeans(random_state=1234)</pre><b>In a Jupyter environment, please rerun this cell to show the HTML representation or trust the notebook. <br />On GitHub, the HTML representation is unable to render, please try loading this page with nbviewer.org.</b></div><div class=\"sk-container\" hidden><div class=\"sk-item\"><div class=\"sk-estimator sk-toggleable\"><input class=\"sk-toggleable__control sk-hidden--visually\" id=\"sk-estimator-id-7\" type=\"checkbox\" checked><label for=\"sk-estimator-id-7\" class=\"sk-toggleable__label sk-toggleable__label-arrow\">KMeans</label><div class=\"sk-toggleable__content\"><pre>KMeans(random_state=1234)</pre></div></div></div></div></div>"
      ],
      "text/plain": [
       "KMeans(random_state=1234)"
      ]
     },
     "execution_count": 182,
     "metadata": {},
     "output_type": "execute_result"
    }
   ],
   "source": [
    "kmeans = KMeans(random_state=1234)\n",
    "kmeans.fit(X_scaled)"
   ]
  },
  {
   "cell_type": "code",
   "execution_count": 183,
   "id": "c41a4a25",
   "metadata": {},
   "outputs": [
    {
     "data": {
      "text/plain": [
       "0    5307\n",
       "1     937\n",
       "2    2642\n",
       "3     584\n",
       "4    2486\n",
       "5    3750\n",
       "6    1353\n",
       "7    1494\n",
       "dtype: int64"
      ]
     },
     "execution_count": 183,
     "metadata": {},
     "output_type": "execute_result"
    }
   ],
   "source": [
    "# Predicting / assigning the clusters:\n",
    "clusters = kmeans.predict(X_scaled)\n",
    "\n",
    "# Check the size of the clusters\n",
    "pd.Series(clusters).value_counts().sort_index()"
   ]
  },
  {
   "cell_type": "code",
   "execution_count": 184,
   "id": "76074485",
   "metadata": {
    "scrolled": true
   },
   "outputs": [
    {
     "data": {
      "text/plain": [
       "146008.22060484914"
      ]
     },
     "execution_count": 184,
     "metadata": {},
     "output_type": "execute_result"
    }
   ],
   "source": [
    "kmeans.inertia_ "
   ]
  },
  {
   "cell_type": "code",
   "execution_count": 185,
   "id": "54f97c52",
   "metadata": {
    "scrolled": false
   },
   "outputs": [
    {
     "data": {
      "text/plain": [
       "Text(0.5, 1.0, 'Elbow Method showing the optimal k')"
      ]
     },
     "execution_count": 185,
     "metadata": {},
     "output_type": "execute_result"
    },
    {
     "data": {
      "image/png": "[encoded data removed]",
      "text/plain": [
       "<Figure size 1152x576 with 1 Axes>"
      ]
     },
     "metadata": {
      "needs_background": "light"
     },
     "output_type": "display_data"
    }
   ],
   "source": [
    "K = range(2, 10)\n",
    "inertia = []\n",
    "\n",
    "for k in K:\n",
    "    kmeans = KMeans(n_clusters=k,\n",
    "                    random_state=1234)\n",
    "    kmeans.fit(X_scaled)\n",
    "    inertia.append(kmeans.inertia_)\n",
    "\n",
    "%matplotlib inline\n",
    "\n",
    "plt.figure(figsize=(16,8))\n",
    "plt.plot(K, inertia, 'bx-')\n",
    "plt.xlabel('k')\n",
    "plt.ylabel('inertia')\n",
    "plt.xticks(np.arange(min(K), max(K)+1, 1.0))\n",
    "plt.title('Elbow Method showing the optimal k')"
   ]
  },
  {
   "cell_type": "code",
   "execution_count": 186,
   "id": "6f714453",
   "metadata": {},
   "outputs": [
    {
     "data": {
      "text/plain": [
       "Text(0.5, 1.0, 'Silhouette score showing the optimal k')"
      ]
     },
     "execution_count": 186,
     "metadata": {},
     "output_type": "execute_result"
    },
    {
     "data": {
      "image/png": "[encoded data removed]",
      "text/plain": [
       "<Figure size 1152x576 with 1 Axes>"
      ]
     },
     "metadata": {
      "needs_background": "light"
     },
     "output_type": "display_data"
    }
   ],
   "source": [
    "K = range(2, 10)\n",
    "silhouette = []\n",
    "\n",
    "for k in K:\n",
    "    kmeans = KMeans(n_clusters=k,\n",
    "                    random_state=1234)\n",
    "    kmeans.fit(X_scaled)\n",
    "    silhouette.append(silhouette_score(X_scaled, kmeans.predict(X_scaled)))\n",
    "\n",
    "\n",
    "plt.figure(figsize=(16,8))\n",
    "plt.plot(K, silhouette, 'bx-')\n",
    "plt.xlabel('k')\n",
    "plt.ylabel('silhouette score')\n",
    "plt.xticks(np.arange(min(K), max(K)+1, 1.0))\n",
    "plt.title('Silhouette score showing the optimal k')"
   ]
  },
  {
   "cell_type": "markdown",
   "id": "8f29d4ea",
   "metadata": {},
   "source": [
    "The elbow method is extremely unclear as to what optimal k might be. So taking the Silhouette makes it clearer that 7 would be the single best score."
   ]
  },
  {
   "cell_type": "code",
   "execution_count": 189,
   "id": "1a536ec6",
   "metadata": {},
   "outputs": [
    {
     "name": "stdout",
     "output_type": "stream",
     "text": [
      "151977.80547010814\n"
     ]
    }
   ],
   "source": [
    "kmeans = KMeans(n_clusters=7,\n",
    "                random_state=1234)\n",
    "kmeans.fit(X_scaled)\n",
    "print(kmeans.inertia_)"
   ]
  },
  {
   "cell_type": "markdown",
   "id": "d8ffcf72",
   "metadata": {},
   "source": [
    "Adding cluster col to my df"
   ]
  },
  {
   "cell_type": "code",
   "execution_count": 190,
   "id": "1a266096",
   "metadata": {},
   "outputs": [
    {
     "data": {
      "text/html": [
       "<div>\n",
       "<style scoped>\n",
       "    .dataframe tbody tr th:only-of-type {\n",
       "        vertical-align: middle;\n",
       "    }\n",
       "\n",
       "    .dataframe tbody tr th {\n",
       "        vertical-align: top;\n",
       "    }\n",
       "\n",
       "    .dataframe thead th {\n",
       "        text-align: right;\n",
       "    }\n",
       "</style>\n",
       "<table border=\"1\" class=\"dataframe\">\n",
       "  <thead>\n",
       "    <tr style=\"text-align: right;\">\n",
       "      <th></th>\n",
       "      <th>title</th>\n",
       "      <th>artist</th>\n",
       "      <th>uri</th>\n",
       "      <th>danceability</th>\n",
       "      <th>energy</th>\n",
       "      <th>key</th>\n",
       "      <th>loudness</th>\n",
       "      <th>mode</th>\n",
       "      <th>speechiness</th>\n",
       "      <th>acousticness</th>\n",
       "      <th>instrumentalness</th>\n",
       "      <th>liveness</th>\n",
       "      <th>valence</th>\n",
       "      <th>tempo</th>\n",
       "      <th>duration_ms</th>\n",
       "      <th>time_signature</th>\n",
       "      <th>cluster</th>\n",
       "    </tr>\n",
       "  </thead>\n",
       "  <tbody>\n",
       "    <tr>\n",
       "      <th>0</th>\n",
       "      <td>See You Again (feat. Kali Uchis)</td>\n",
       "      <td>Tyler, The Creator</td>\n",
       "      <td>spotify:track:7KA4W4McWYRpgf0fWsJZWB</td>\n",
       "      <td>0.558</td>\n",
       "      <td>0.559</td>\n",
       "      <td>6.0</td>\n",
       "      <td>-9.222</td>\n",
       "      <td>1.0</td>\n",
       "      <td>0.0959</td>\n",
       "      <td>0.3710</td>\n",
       "      <td>0.000007</td>\n",
       "      <td>0.1090</td>\n",
       "      <td>0.620</td>\n",
       "      <td>78.558</td>\n",
       "      <td>180387.0</td>\n",
       "      <td>4.0</td>\n",
       "      <td>3</td>\n",
       "    </tr>\n",
       "    <tr>\n",
       "      <th>1</th>\n",
       "      <td>Hall of Fame (feat. will.i.am)</td>\n",
       "      <td>The Script</td>\n",
       "      <td>spotify:track:7wMq5n8mYSKlQIGECKUgTX</td>\n",
       "      <td>0.421</td>\n",
       "      <td>0.873</td>\n",
       "      <td>10.0</td>\n",
       "      <td>-4.343</td>\n",
       "      <td>1.0</td>\n",
       "      <td>0.0564</td>\n",
       "      <td>0.0654</td>\n",
       "      <td>0.000000</td>\n",
       "      <td>0.1230</td>\n",
       "      <td>0.629</td>\n",
       "      <td>84.786</td>\n",
       "      <td>202533.0</td>\n",
       "      <td>4.0</td>\n",
       "      <td>3</td>\n",
       "    </tr>\n",
       "    <tr>\n",
       "      <th>2</th>\n",
       "      <td>Back Where I Belong (feat. Avicii)</td>\n",
       "      <td>Otto Knows</td>\n",
       "      <td>spotify:track:78W8wiUIlQ2SnWY9TVowKZ</td>\n",
       "      <td>0.497</td>\n",
       "      <td>0.865</td>\n",
       "      <td>0.0</td>\n",
       "      <td>-3.190</td>\n",
       "      <td>1.0</td>\n",
       "      <td>0.0644</td>\n",
       "      <td>0.0306</td>\n",
       "      <td>0.067900</td>\n",
       "      <td>0.4430</td>\n",
       "      <td>0.595</td>\n",
       "      <td>125.960</td>\n",
       "      <td>174203.0</td>\n",
       "      <td>4.0</td>\n",
       "      <td>3</td>\n",
       "    </tr>\n",
       "    <tr>\n",
       "      <th>3</th>\n",
       "      <td>Bumpy Ride</td>\n",
       "      <td>Mohombi</td>\n",
       "      <td>spotify:track:0tBRo4P60DgKmg4jt48upm</td>\n",
       "      <td>0.709</td>\n",
       "      <td>0.854</td>\n",
       "      <td>0.0</td>\n",
       "      <td>-4.447</td>\n",
       "      <td>0.0</td>\n",
       "      <td>0.0399</td>\n",
       "      <td>0.0470</td>\n",
       "      <td>0.000000</td>\n",
       "      <td>0.0724</td>\n",
       "      <td>0.826</td>\n",
       "      <td>105.074</td>\n",
       "      <td>224402.0</td>\n",
       "      <td>4.0</td>\n",
       "      <td>2</td>\n",
       "    </tr>\n",
       "    <tr>\n",
       "      <th>4</th>\n",
       "      <td>Danza Kuduro (feat. Don Omar)</td>\n",
       "      <td>Lucenzo</td>\n",
       "      <td>spotify:track:1kAZhbcsXqfUjnVeqPywn2</td>\n",
       "      <td>0.706</td>\n",
       "      <td>0.890</td>\n",
       "      <td>0.0</td>\n",
       "      <td>-6.575</td>\n",
       "      <td>1.0</td>\n",
       "      <td>0.0847</td>\n",
       "      <td>0.0855</td>\n",
       "      <td>0.000000</td>\n",
       "      <td>0.0465</td>\n",
       "      <td>0.896</td>\n",
       "      <td>130.051</td>\n",
       "      <td>202347.0</td>\n",
       "      <td>4.0</td>\n",
       "      <td>3</td>\n",
       "    </tr>\n",
       "  </tbody>\n",
       "</table>\n",
       "</div>"
      ],
      "text/plain": [
       "                                title              artist  \\\n",
       "0    See You Again (feat. Kali Uchis)  Tyler, The Creator   \n",
       "1      Hall of Fame (feat. will.i.am)          The Script   \n",
       "2  Back Where I Belong (feat. Avicii)          Otto Knows   \n",
       "3                          Bumpy Ride             Mohombi   \n",
       "4       Danza Kuduro (feat. Don Omar)             Lucenzo   \n",
       "\n",
       "                                    uri  danceability  energy   key  loudness  \\\n",
       "0  spotify:track:7KA4W4McWYRpgf0fWsJZWB         0.558   0.559   6.0    -9.222   \n",
       "1  spotify:track:7wMq5n8mYSKlQIGECKUgTX         0.421   0.873  10.0    -4.343   \n",
       "2  spotify:track:78W8wiUIlQ2SnWY9TVowKZ         0.497   0.865   0.0    -3.190   \n",
       "3  spotify:track:0tBRo4P60DgKmg4jt48upm         0.709   0.854   0.0    -4.447   \n",
       "4  spotify:track:1kAZhbcsXqfUjnVeqPywn2         0.706   0.890   0.0    -6.575   \n",
       "\n",
       "   mode  speechiness  acousticness  instrumentalness  liveness  valence  \\\n",
       "0   1.0       0.0959        0.3710          0.000007    0.1090    0.620   \n",
       "1   1.0       0.0564        0.0654          0.000000    0.1230    0.629   \n",
       "2   1.0       0.0644        0.0306          0.067900    0.4430    0.595   \n",
       "3   0.0       0.0399        0.0470          0.000000    0.0724    0.826   \n",
       "4   1.0       0.0847        0.0855          0.000000    0.0465    0.896   \n",
       "\n",
       "     tempo  duration_ms  time_signature  cluster  \n",
       "0   78.558     180387.0             4.0        3  \n",
       "1   84.786     202533.0             4.0        3  \n",
       "2  125.960     174203.0             4.0        3  \n",
       "3  105.074     224402.0             4.0        2  \n",
       "4  130.051     202347.0             4.0        3  "
      ]
     },
     "execution_count": 190,
     "metadata": {},
     "output_type": "execute_result"
    }
   ],
   "source": [
    "data['cluster'] = kmeans.predict(X_scaled)\n",
    "data.head()"
   ]
  },
  {
   "cell_type": "code",
   "execution_count": 191,
   "id": "ac8a5ae6",
   "metadata": {
    "scrolled": true
   },
   "outputs": [
    {
     "data": {
      "text/plain": [
       "3    6509\n",
       "2    3935\n",
       "4    2842\n",
       "1    1660\n",
       "5    1391\n",
       "0    1248\n",
       "6     968\n",
       "Name: cluster, dtype: int64"
      ]
     },
     "execution_count": 191,
     "metadata": {},
     "output_type": "execute_result"
    }
   ],
   "source": [
    "# double check if things add up\n",
    "data['cluster'].value_counts()"
   ]
  },
  {
   "cell_type": "markdown",
   "id": "9ce99b95",
   "metadata": {},
   "source": [
    "#### Exporting scaler, kmeans model and dataset with clusters "
   ]
  },
  {
   "cell_type": "code",
   "execution_count": 192,
   "id": "5bdf2ba6",
   "metadata": {},
   "outputs": [],
   "source": [
    "data.to_csv('CSV Files/spotify_clustered.csv', index = False)"
   ]
  },
  {
   "cell_type": "code",
   "execution_count": 193,
   "id": "54b6905c",
   "metadata": {},
   "outputs": [],
   "source": [
    "import pickle"
   ]
  },
  {
   "cell_type": "code",
   "execution_count": 194,
   "id": "1e19314b",
   "metadata": {},
   "outputs": [],
   "source": [
    "filename = 'Model Files/kmeans_cluster_model.sav'\n",
    "pickle.dump(kmeans, open(filename, 'wb'))"
   ]
  },
  {
   "cell_type": "code",
   "execution_count": 195,
   "id": "23f600f5",
   "metadata": {},
   "outputs": [],
   "source": [
    "filename = 'Model Files/scaler.sav'\n",
    "pickle.dump(scaler, open(filename, 'wb'))"
   ]
  }
 ],
 "metadata": {
  "kernelspec": {
   "display_name": "Python 3 (ipykernel)",
   "language": "python",
   "name": "python3"
  },
  "language_info": {
   "codemirror_mode": {
    "name": "ipython",
    "version": 3
   },
   "file_extension": ".py",
   "mimetype": "text/x-python",
   "name": "python",
   "nbconvert_exporter": "python",
   "pygments_lexer": "ipython3",
   "version": "3.9.12"
  },
  "toc": {
   "base_numbering": 1,
   "nav_menu": {},
   "number_sections": true,
   "sideBar": true,
   "skip_h1_title": true,
   "title_cell": "Table of Contents",
   "title_sidebar": "Contents",
   "toc_cell": false,
   "toc_position": {},
   "toc_section_display": true,
   "toc_window_display": false
  }
 },
 "nbformat": 4,
 "nbformat_minor": 5
}
