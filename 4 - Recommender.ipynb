{
 "cells": [
  {
   "cell_type": "markdown",
   "id": "f8508b3f",
   "metadata": {},
   "source": [
    "Dear xxxxxxxx,\n",
    "\n",
    "We are thrilled to welcome you as a Data Analyst for Gnoosic!\n",
    "\n",
    "As you know, we are trying to come up with ways to enhance our music recommendations. One of the new features we'd like to research is to recommend songs (not only bands). We're also aware of the limitations of our collaborative filtering algorithms, and would like to give users two new possibilities when searching for recommendations:\n",
    "\n",
    "- Songs that are actually similar to the ones they picked from an acoustic point of view.\n",
    "- Songs that are popular around the world right now, independently from their tastes.\n",
    "\n",
    "Coming up with the perfect song recommender will take us months - no need to stress out too much. In this first week, we want you to explore new data sources for songs. The internet is full of information and our first step is to acquire it do an initial exploration. Feel free to use APIs or directly scrape the web to collect as much information as possible from popular songs. Eventually, we'll need to collect data from millions of songs, but we can start with a few hundreds or thousands from each source and see if the collected features are useful. \n",
    "\n",
    "Once the data is collected, we want you to create clusters of songs that are similar to each other. The idea is that if a user inputs a song from one group, we'll prioritize giving them recommendations of songs from that same group.\n",
    "\n",
    "On Friday, you will present your work to me and Marek, the CEO and founder. Full disclosure: I need you to be very convincing about this whole song-recommender, as this has been my personal push and the main reason we hired you for!\n",
    "\n",
    "Be open minded about this process: we are agile, and that means that we define our products and features on-the-go, while exploring the tools and the data that's available to us. We'd love you to provide your own vision of the product and the next steps to be taken.\n",
    "\n",
    "Lots of luck and strength for this first week with us!\n",
    "\n",
    "Jane\n"
   ]
  },
  {
   "cell_type": "markdown",
   "id": "e2fb6112",
   "metadata": {},
   "source": [
    "## Imports"
   ]
  },
  {
   "cell_type": "markdown",
   "id": "b6d3c229",
   "metadata": {},
   "source": [
    "### Libraries and Spotify Connection"
   ]
  },
  {
   "cell_type": "code",
   "execution_count": 1,
   "id": "84e60511",
   "metadata": {},
   "outputs": [],
   "source": [
    "import pandas as pd\n",
    "import numpy as np\n",
    "import random\n",
    "import pickle\n",
    "import spotipy\n",
    "from random import randint\n",
    "from IPython.display import clear_output\n",
    "\n",
    "from spotipy.oauth2 import SpotifyClientCredentials"
   ]
  },
  {
   "cell_type": "code",
   "execution_count": 2,
   "id": "71a542bb",
   "metadata": {},
   "outputs": [],
   "source": [
    "secrets_file = open(\"/Users/NicolasVollmerMac/Documents/Ironhack-Lessons/6.5 API wrappers, Spotipy/secrets.txt\", \"r\")"
   ]
  },
  {
   "cell_type": "code",
   "execution_count": 3,
   "id": "6c7442ac",
   "metadata": {},
   "outputs": [],
   "source": [
    "string = secrets_file.read()"
   ]
  },
  {
   "cell_type": "code",
   "execution_count": 4,
   "id": "6fc553aa",
   "metadata": {},
   "outputs": [],
   "source": [
    "secrets_dict={}\n",
    "for line in string.split('\\n'):\n",
    "    if len(line) > 0:\n",
    "        secrets_dict[line.split(':')[0]]=line.split(':')[1].strip()"
   ]
  },
  {
   "cell_type": "markdown",
   "id": "3e000e50",
   "metadata": {},
   "source": [
    "### Datafiles"
   ]
  },
  {
   "cell_type": "code",
   "execution_count": 9,
   "id": "61ecdf27",
   "metadata": {},
   "outputs": [],
   "source": [
    "spotify_df = pd.read_csv('CSV Files/spotify_clustered.csv')"
   ]
  },
  {
   "cell_type": "code",
   "execution_count": 22,
   "id": "87e8c4f1",
   "metadata": {},
   "outputs": [],
   "source": [
    "hot100_df = pd.read_csv('CSV Files/Hot100_Tracks_Oct_10_2022.csv')"
   ]
  },
  {
   "cell_type": "markdown",
   "id": "a8afd862",
   "metadata": {},
   "source": [
    "### Pickled Model & Scaler Imports"
   ]
  },
  {
   "cell_type": "code",
   "execution_count": 20,
   "id": "c5368c12",
   "metadata": {},
   "outputs": [],
   "source": [
    "scaler_pickle = open ('Model Files/scaler.sav', 'rb')\n",
    "scaler = pickle.load(scaler_pickle)"
   ]
  },
  {
   "cell_type": "code",
   "execution_count": 21,
   "id": "dd53e2ed",
   "metadata": {},
   "outputs": [],
   "source": [
    "model_pickle = open ('Model Files/kmeans_cluster_model.sav', 'rb')\n",
    "model = pickle.load(model_pickle)"
   ]
  },
  {
   "cell_type": "markdown",
   "id": "75b4f474",
   "metadata": {},
   "source": [
    "## Recommender Build"
   ]
  },
  {
   "cell_type": "code",
   "execution_count": 24,
   "id": "7b141c95",
   "metadata": {},
   "outputs": [
    {
     "name": "stdout",
     "output_type": "stream",
     "text": [
      "Please enter a popular song title or artist you like and our tool will make a suggestion you might enjoy: \n",
      "Everywhere\n",
      "\n",
      "You should try this hot track: Hold Me Closer \n",
      "by Artist(s): Elton John & Britney Spears\n"
     ]
    }
   ],
   "source": [
    "# Finally figured out a tool that takes either artist or song title input and suggests a random title/artist pair\n",
    "# couldn't figure out to avoid the tool potentially suggesting the same title/artist pair as user input\n",
    "\n",
    "# asking user input\n",
    "srch = str(input(\"Please enter a popular song title or artist you like and our tool will make a suggestion you might enjoy: \\n\"))\n",
    "\n",
    "# setting false flag\n",
    "x = False\n",
    "\n",
    "# if srch is present in df, set true flag and proceed, else print Error \n",
    "for a in ['title', 'artist']:\n",
    "    if srch in hot100_df[a].values:\n",
    "        x = True\n",
    "\n",
    "# if true flag was set, set random integer based on df index length and return artist and title for corresponding index int\n",
    "if x == True:\n",
    "    i = random.randint(0, len(hot100_df.index)-1)\n",
    "#     for a in ['title', 'artist']:\n",
    "#         if srch == hot100.at[hot100.index[i],'title']:\n",
    "#             print(\"Input Error, please try again with alternate search term\")\n",
    "#         elif srch == hot100.at[hot100.index[i],'artist']:\n",
    "#             print(\"Input Error, please try again with alternate search term\")\n",
    "    print(\"\\nYou should try this hot track:\", hot100_df.at[hot100_df.index[i],'title'], \"\\nby Artist(s):\", hot100_df.at[hot100_df.index[i],'artist'])\n",
    "\n",
    "else:\n",
    "    print(\"Input Error, please try again with alternate search term\")"
   ]
  },
  {
   "cell_type": "code",
   "execution_count": 25,
   "id": "9be4135c",
   "metadata": {},
   "outputs": [],
   "source": [
    "def song_uri(song_id):\n",
    "    try:\n",
    "        # Creating the spotipy element for the playlist URI\n",
    "        query = 'track:'+str(song_id)\n",
    "        track = sp.search(q=song_id, limit=1)\n",
    "        return track['tracks']['items'][0]['uri'].split('spotify:track:')[1]                 \n",
    "    except:\n",
    "        return 'Null'\n"
   ]
  },
  {
   "cell_type": "code",
   "execution_count": 26,
   "id": "272d37ff",
   "metadata": {},
   "outputs": [],
   "source": [
    "# Function to get the song details of a specific URI\n",
    "def get_details(uri):\n",
    "    # Creatinga a dataframe with the columns that we need\n",
    "    playlist_lst = ['danceability','energy','key','loudness','mode', 'speechiness',\n",
    "                    'instrumentalness','liveness','valence','tempo',\n",
    "                    'duration_ms','time_signature']\n",
    "    \n",
    "    playlist_df = pd.DataFrame(columns = playlist_lst)\n",
    "    # Get audio features and adding them to the respective columns\n",
    "    audio_features = sp.audio_features(uri)[0]\n",
    "    playlist_df.loc[len(playlist_df)] = [audio_features[i] for i in playlist_lst]\n",
    "    return playlist_df"
   ]
  },
  {
   "cell_type": "code",
   "execution_count": 28,
   "id": "014e13b0",
   "metadata": {},
   "outputs": [
    {
     "name": "stdout",
     "output_type": "stream",
     "text": [
      "Insert song or search term:\n",
      "Everywhere\n"
     ]
    },
    {
     "ename": "KeyError",
     "evalue": "'song'",
     "output_type": "error",
     "traceback": [
      "\u001b[0;31m---------------------------------------------------------------------------\u001b[0m",
      "\u001b[0;31mKeyError\u001b[0m                                  Traceback (most recent call last)",
      "File \u001b[0;32m~/opt/anaconda3/lib/python3.9/site-packages/pandas/core/indexes/base.py:3621\u001b[0m, in \u001b[0;36mIndex.get_loc\u001b[0;34m(self, key, method, tolerance)\u001b[0m\n\u001b[1;32m   3620\u001b[0m \u001b[38;5;28;01mtry\u001b[39;00m:\n\u001b[0;32m-> 3621\u001b[0m     \u001b[38;5;28;01mreturn\u001b[39;00m \u001b[38;5;28;43mself\u001b[39;49m\u001b[38;5;241;43m.\u001b[39;49m\u001b[43m_engine\u001b[49m\u001b[38;5;241;43m.\u001b[39;49m\u001b[43mget_loc\u001b[49m\u001b[43m(\u001b[49m\u001b[43mcasted_key\u001b[49m\u001b[43m)\u001b[49m\n\u001b[1;32m   3622\u001b[0m \u001b[38;5;28;01mexcept\u001b[39;00m \u001b[38;5;167;01mKeyError\u001b[39;00m \u001b[38;5;28;01mas\u001b[39;00m err:\n",
      "File \u001b[0;32m~/opt/anaconda3/lib/python3.9/site-packages/pandas/_libs/index.pyx:136\u001b[0m, in \u001b[0;36mpandas._libs.index.IndexEngine.get_loc\u001b[0;34m()\u001b[0m\n",
      "File \u001b[0;32m~/opt/anaconda3/lib/python3.9/site-packages/pandas/_libs/index.pyx:163\u001b[0m, in \u001b[0;36mpandas._libs.index.IndexEngine.get_loc\u001b[0;34m()\u001b[0m\n",
      "File \u001b[0;32mpandas/_libs/hashtable_class_helper.pxi:5198\u001b[0m, in \u001b[0;36mpandas._libs.hashtable.PyObjectHashTable.get_item\u001b[0;34m()\u001b[0m\n",
      "File \u001b[0;32mpandas/_libs/hashtable_class_helper.pxi:5206\u001b[0m, in \u001b[0;36mpandas._libs.hashtable.PyObjectHashTable.get_item\u001b[0;34m()\u001b[0m\n",
      "\u001b[0;31mKeyError\u001b[0m: 'song'",
      "\nThe above exception was the direct cause of the following exception:\n",
      "\u001b[0;31mKeyError\u001b[0m                                  Traceback (most recent call last)",
      "Input \u001b[0;32mIn [28]\u001b[0m, in \u001b[0;36m<cell line: 2>\u001b[0;34m()\u001b[0m\n\u001b[1;32m     14\u001b[0m \u001b[38;5;66;03m# testing if the search string exists\u001b[39;00m\n\u001b[1;32m     15\u001b[0m \u001b[38;5;28;01mfor\u001b[39;00m i \u001b[38;5;129;01min\u001b[39;00m [\u001b[38;5;124m'\u001b[39m\u001b[38;5;124msong\u001b[39m\u001b[38;5;124m'\u001b[39m, \u001b[38;5;124m'\u001b[39m\u001b[38;5;124martist\u001b[39m\u001b[38;5;124m'\u001b[39m, \u001b[38;5;124m'\u001b[39m\u001b[38;5;124mgenre\u001b[39m\u001b[38;5;124m'\u001b[39m]:\n\u001b[0;32m---> 16\u001b[0m     \u001b[38;5;28;01mif\u001b[39;00m \u001b[38;5;28mlen\u001b[39m(top100_df[\u001b[43mtop100_df\u001b[49m\u001b[43m[\u001b[49m\u001b[43mi\u001b[49m\u001b[43m]\u001b[49m\u001b[38;5;241m.\u001b[39mstr\u001b[38;5;241m.\u001b[39mcontains(search, case \u001b[38;5;241m=\u001b[39m \u001b[38;5;28;01mFalse\u001b[39;00m, regex \u001b[38;5;241m=\u001b[39m \u001b[38;5;28;01mFalse\u001b[39;00m)]) \u001b[38;5;241m!=\u001b[39m \u001b[38;5;241m0\u001b[39m:\n\u001b[1;32m     17\u001b[0m         exist \u001b[38;5;241m=\u001b[39m \u001b[38;5;28;01mTrue\u001b[39;00m\n\u001b[1;32m     18\u001b[0m \u001b[38;5;66;03m# if the song or search term exists in the dataset we sugest a random song, otherwise we search spotify\u001b[39;00m\n",
      "File \u001b[0;32m~/opt/anaconda3/lib/python3.9/site-packages/pandas/core/frame.py:3505\u001b[0m, in \u001b[0;36mDataFrame.__getitem__\u001b[0;34m(self, key)\u001b[0m\n\u001b[1;32m   3503\u001b[0m \u001b[38;5;28;01mif\u001b[39;00m \u001b[38;5;28mself\u001b[39m\u001b[38;5;241m.\u001b[39mcolumns\u001b[38;5;241m.\u001b[39mnlevels \u001b[38;5;241m>\u001b[39m \u001b[38;5;241m1\u001b[39m:\n\u001b[1;32m   3504\u001b[0m     \u001b[38;5;28;01mreturn\u001b[39;00m \u001b[38;5;28mself\u001b[39m\u001b[38;5;241m.\u001b[39m_getitem_multilevel(key)\n\u001b[0;32m-> 3505\u001b[0m indexer \u001b[38;5;241m=\u001b[39m \u001b[38;5;28;43mself\u001b[39;49m\u001b[38;5;241;43m.\u001b[39;49m\u001b[43mcolumns\u001b[49m\u001b[38;5;241;43m.\u001b[39;49m\u001b[43mget_loc\u001b[49m\u001b[43m(\u001b[49m\u001b[43mkey\u001b[49m\u001b[43m)\u001b[49m\n\u001b[1;32m   3506\u001b[0m \u001b[38;5;28;01mif\u001b[39;00m is_integer(indexer):\n\u001b[1;32m   3507\u001b[0m     indexer \u001b[38;5;241m=\u001b[39m [indexer]\n",
      "File \u001b[0;32m~/opt/anaconda3/lib/python3.9/site-packages/pandas/core/indexes/base.py:3623\u001b[0m, in \u001b[0;36mIndex.get_loc\u001b[0;34m(self, key, method, tolerance)\u001b[0m\n\u001b[1;32m   3621\u001b[0m     \u001b[38;5;28;01mreturn\u001b[39;00m \u001b[38;5;28mself\u001b[39m\u001b[38;5;241m.\u001b[39m_engine\u001b[38;5;241m.\u001b[39mget_loc(casted_key)\n\u001b[1;32m   3622\u001b[0m \u001b[38;5;28;01mexcept\u001b[39;00m \u001b[38;5;167;01mKeyError\u001b[39;00m \u001b[38;5;28;01mas\u001b[39;00m err:\n\u001b[0;32m-> 3623\u001b[0m     \u001b[38;5;28;01mraise\u001b[39;00m \u001b[38;5;167;01mKeyError\u001b[39;00m(key) \u001b[38;5;28;01mfrom\u001b[39;00m \u001b[38;5;21;01merr\u001b[39;00m\n\u001b[1;32m   3624\u001b[0m \u001b[38;5;28;01mexcept\u001b[39;00m \u001b[38;5;167;01mTypeError\u001b[39;00m:\n\u001b[1;32m   3625\u001b[0m     \u001b[38;5;66;03m# If we have a listlike key, _check_indexing_error will raise\u001b[39;00m\n\u001b[1;32m   3626\u001b[0m     \u001b[38;5;66;03m#  InvalidIndexError. Otherwise we fall through and re-raise\u001b[39;00m\n\u001b[1;32m   3627\u001b[0m     \u001b[38;5;66;03m#  the TypeError.\u001b[39;00m\n\u001b[1;32m   3628\u001b[0m     \u001b[38;5;28mself\u001b[39m\u001b[38;5;241m.\u001b[39m_check_indexing_error(key)\n",
      "\u001b[0;31mKeyError\u001b[0m: 'song'"
     ]
    }
   ],
   "source": [
    "state = True\n",
    "while state:\n",
    "    \n",
    "    # User inserts search term\n",
    "    print('Insert song or search term:')\n",
    "    search=input()\n",
    "    if search == 'quit':\n",
    "        state = False\n",
    "    \n",
    "    if state:\n",
    "        # flag that controls if the search string exists in the songs dataset\n",
    "        exist = False\n",
    "\n",
    "        # testing if the search string exists\n",
    "        for i in ['song', 'artist', 'genre']:\n",
    "            if len(top100_df[top100_df[i].str.contains(search, case = False, regex = False)]) != 0:\n",
    "                exist = True\n",
    "        # if the song or search term exists in the dataset we sugest a random song, otherwise we search spotify\n",
    "        if exist == True:\n",
    "            clear_output()\n",
    "            index = random.randint(0,len(top100_df))\n",
    "            print('\\nI have a sugestion! \\n\\nLink: ','https://open.spotify.com/track/'+top100_df['uri'].values[index],  '\\nSong: ',top100_df['song'].values[index],  '\\nArtist: ', top100_df['artist'].values[index])      \n",
    "        else:\n",
    "            # Using a try calause because the user can insert a song that's not on spotify, and the app will crash\n",
    "            try:\n",
    "                clear_output()\n",
    "                # creating a single row dataframe with all the audio features from the song the user inserted\n",
    "                df = get_details(song_uri(search))\n",
    "                # calculating the cluster number for the song the user sugested\n",
    "                cluster = model.predict(pd.DataFrame(transformer.transform(df), columns = df.columns))\n",
    "                print('Spotify sugestion!')\n",
    "                # filtering our dataset to a new dataset just containing the rows of the matching cluster of the user input song\n",
    "                element = spotify_df[spotify_df['cluster'] == int(cluster)]\n",
    "                # randomizing a row number from the subset\n",
    "                index = random.randint(0,len(element))\n",
    "                print('\\nLink: ','https://open.spotify.com/track/'+element['track_id'].values[index],  '\\nSong: ',element['track_name'].values[index],  '\\nArtist: ', element['artist'].values[index])\n",
    "            except:\n",
    "                # Exception in the case that the song doesn't exists in spotify\n",
    "                print('Invalid song. Sorry!')"
   ]
  },
  {
   "cell_type": "code",
   "execution_count": null,
   "id": "e5f9c224",
   "metadata": {},
   "outputs": [],
   "source": []
  }
 ],
 "metadata": {
  "kernelspec": {
   "display_name": "Python 3 (ipykernel)",
   "language": "python",
   "name": "python3"
  },
  "language_info": {
   "codemirror_mode": {
    "name": "ipython",
    "version": 3
   },
   "file_extension": ".py",
   "mimetype": "text/x-python",
   "name": "python",
   "nbconvert_exporter": "python",
   "pygments_lexer": "ipython3",
   "version": "3.9.12"
  },
  "toc": {
   "base_numbering": 1,
   "nav_menu": {},
   "number_sections": true,
   "sideBar": true,
   "skip_h1_title": true,
   "title_cell": "Table of Contents",
   "title_sidebar": "Contents",
   "toc_cell": false,
   "toc_position": {},
   "toc_section_display": true,
   "toc_window_display": false
  },
  "varInspector": {
   "cols": {
    "lenName": 16,
    "lenType": 16,
    "lenVar": 40
   },
   "kernels_config": {
    "python": {
     "delete_cmd_postfix": "",
     "delete_cmd_prefix": "del ",
     "library": "var_list.py",
     "varRefreshCmd": "print(var_dic_list())"
    },
    "r": {
     "delete_cmd_postfix": ") ",
     "delete_cmd_prefix": "rm(",
     "library": "var_list.r",
     "varRefreshCmd": "cat(var_dic_list()) "
    }
   },
   "types_to_exclude": [
    "module",
    "function",
    "builtin_function_or_method",
    "instance",
    "_Feature"
   ],
   "window_display": false
  }
 },
 "nbformat": 4,
 "nbformat_minor": 5
}
